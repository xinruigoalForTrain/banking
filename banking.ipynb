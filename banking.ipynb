{
 "cells": [
  {
   "cell_type": "code",
   "execution_count": 1,
   "metadata": {},
   "outputs": [],
   "source": [
    "import numpy as np\n",
    "import pandas as pd\n",
    "import matplotlib.pyplot as plt\n",
    "from sklearn import preprocessing\n",
    "plt.rc('font',size=14)\n",
    "\n",
    "from sklearn.linear_model import LogisticRegression\n",
    "from sklearn.model_selection import train_test_split\n",
    "\n",
    "import seaborn as sns\n",
    "sns.set(style=\"white\")\n",
    "sns.set(style=\"whitegrid\",color_codes=True)"
   ]
  },
  {
   "cell_type": "markdown",
   "metadata": {},
   "source": [
    "## 葡萄牙某银行战略分析，目标：根据客户个人信息，判断用户是否会购买该银行一种定期产品"
   ]
  },
  {
   "cell_type": "markdown",
   "metadata": {},
   "source": [
    "### Data"
   ]
  },
  {
   "cell_type": "code",
   "execution_count": 2,
   "metadata": {},
   "outputs": [],
   "source": [
    "data = pd.read_csv('banking.csv',header=0)"
   ]
  },
  {
   "cell_type": "code",
   "execution_count": 3,
   "metadata": {},
   "outputs": [
    {
     "data": {
      "text/plain": [
       "(41188, 21)"
      ]
     },
     "execution_count": 3,
     "metadata": {},
     "output_type": "execute_result"
    }
   ],
   "source": [
    "data.shape"
   ]
  },
  {
   "cell_type": "code",
   "execution_count": 4,
   "metadata": {},
   "outputs": [
    {
     "data": {
      "text/html": [
       "<div>\n",
       "<style scoped>\n",
       "    .dataframe tbody tr th:only-of-type {\n",
       "        vertical-align: middle;\n",
       "    }\n",
       "\n",
       "    .dataframe tbody tr th {\n",
       "        vertical-align: top;\n",
       "    }\n",
       "\n",
       "    .dataframe thead th {\n",
       "        text-align: right;\n",
       "    }\n",
       "</style>\n",
       "<table border=\"1\" class=\"dataframe\">\n",
       "  <thead>\n",
       "    <tr style=\"text-align: right;\">\n",
       "      <th></th>\n",
       "      <th>age</th>\n",
       "      <th>job</th>\n",
       "      <th>marital</th>\n",
       "      <th>education</th>\n",
       "      <th>default</th>\n",
       "      <th>housing</th>\n",
       "      <th>loan</th>\n",
       "      <th>contact</th>\n",
       "      <th>month</th>\n",
       "      <th>day_of_week</th>\n",
       "      <th>...</th>\n",
       "      <th>campaign</th>\n",
       "      <th>pdays</th>\n",
       "      <th>previous</th>\n",
       "      <th>poutcome</th>\n",
       "      <th>emp_var_rate</th>\n",
       "      <th>cons_price_idx</th>\n",
       "      <th>cons_conf_idx</th>\n",
       "      <th>euribor3m</th>\n",
       "      <th>nr_employed</th>\n",
       "      <th>y</th>\n",
       "    </tr>\n",
       "  </thead>\n",
       "  <tbody>\n",
       "    <tr>\n",
       "      <td>0</td>\n",
       "      <td>44</td>\n",
       "      <td>blue-collar</td>\n",
       "      <td>married</td>\n",
       "      <td>basic.4y</td>\n",
       "      <td>unknown</td>\n",
       "      <td>yes</td>\n",
       "      <td>no</td>\n",
       "      <td>cellular</td>\n",
       "      <td>aug</td>\n",
       "      <td>thu</td>\n",
       "      <td>...</td>\n",
       "      <td>1</td>\n",
       "      <td>999</td>\n",
       "      <td>0</td>\n",
       "      <td>nonexistent</td>\n",
       "      <td>1.4</td>\n",
       "      <td>93.444</td>\n",
       "      <td>-36.1</td>\n",
       "      <td>4.963</td>\n",
       "      <td>5228.1</td>\n",
       "      <td>0</td>\n",
       "    </tr>\n",
       "    <tr>\n",
       "      <td>1</td>\n",
       "      <td>53</td>\n",
       "      <td>technician</td>\n",
       "      <td>married</td>\n",
       "      <td>unknown</td>\n",
       "      <td>no</td>\n",
       "      <td>no</td>\n",
       "      <td>no</td>\n",
       "      <td>cellular</td>\n",
       "      <td>nov</td>\n",
       "      <td>fri</td>\n",
       "      <td>...</td>\n",
       "      <td>1</td>\n",
       "      <td>999</td>\n",
       "      <td>0</td>\n",
       "      <td>nonexistent</td>\n",
       "      <td>-0.1</td>\n",
       "      <td>93.200</td>\n",
       "      <td>-42.0</td>\n",
       "      <td>4.021</td>\n",
       "      <td>5195.8</td>\n",
       "      <td>0</td>\n",
       "    </tr>\n",
       "    <tr>\n",
       "      <td>2</td>\n",
       "      <td>28</td>\n",
       "      <td>management</td>\n",
       "      <td>single</td>\n",
       "      <td>university.degree</td>\n",
       "      <td>no</td>\n",
       "      <td>yes</td>\n",
       "      <td>no</td>\n",
       "      <td>cellular</td>\n",
       "      <td>jun</td>\n",
       "      <td>thu</td>\n",
       "      <td>...</td>\n",
       "      <td>3</td>\n",
       "      <td>6</td>\n",
       "      <td>2</td>\n",
       "      <td>success</td>\n",
       "      <td>-1.7</td>\n",
       "      <td>94.055</td>\n",
       "      <td>-39.8</td>\n",
       "      <td>0.729</td>\n",
       "      <td>4991.6</td>\n",
       "      <td>1</td>\n",
       "    </tr>\n",
       "    <tr>\n",
       "      <td>3</td>\n",
       "      <td>39</td>\n",
       "      <td>services</td>\n",
       "      <td>married</td>\n",
       "      <td>high.school</td>\n",
       "      <td>no</td>\n",
       "      <td>no</td>\n",
       "      <td>no</td>\n",
       "      <td>cellular</td>\n",
       "      <td>apr</td>\n",
       "      <td>fri</td>\n",
       "      <td>...</td>\n",
       "      <td>2</td>\n",
       "      <td>999</td>\n",
       "      <td>0</td>\n",
       "      <td>nonexistent</td>\n",
       "      <td>-1.8</td>\n",
       "      <td>93.075</td>\n",
       "      <td>-47.1</td>\n",
       "      <td>1.405</td>\n",
       "      <td>5099.1</td>\n",
       "      <td>0</td>\n",
       "    </tr>\n",
       "    <tr>\n",
       "      <td>4</td>\n",
       "      <td>55</td>\n",
       "      <td>retired</td>\n",
       "      <td>married</td>\n",
       "      <td>basic.4y</td>\n",
       "      <td>no</td>\n",
       "      <td>yes</td>\n",
       "      <td>no</td>\n",
       "      <td>cellular</td>\n",
       "      <td>aug</td>\n",
       "      <td>fri</td>\n",
       "      <td>...</td>\n",
       "      <td>1</td>\n",
       "      <td>3</td>\n",
       "      <td>1</td>\n",
       "      <td>success</td>\n",
       "      <td>-2.9</td>\n",
       "      <td>92.201</td>\n",
       "      <td>-31.4</td>\n",
       "      <td>0.869</td>\n",
       "      <td>5076.2</td>\n",
       "      <td>1</td>\n",
       "    </tr>\n",
       "  </tbody>\n",
       "</table>\n",
       "<p>5 rows × 21 columns</p>\n",
       "</div>"
      ],
      "text/plain": [
       "   age          job  marital          education  default housing loan  \\\n",
       "0   44  blue-collar  married           basic.4y  unknown     yes   no   \n",
       "1   53   technician  married            unknown       no      no   no   \n",
       "2   28   management   single  university.degree       no     yes   no   \n",
       "3   39     services  married        high.school       no      no   no   \n",
       "4   55      retired  married           basic.4y       no     yes   no   \n",
       "\n",
       "    contact month day_of_week  ...  campaign  pdays  previous     poutcome  \\\n",
       "0  cellular   aug         thu  ...         1    999         0  nonexistent   \n",
       "1  cellular   nov         fri  ...         1    999         0  nonexistent   \n",
       "2  cellular   jun         thu  ...         3      6         2      success   \n",
       "3  cellular   apr         fri  ...         2    999         0  nonexistent   \n",
       "4  cellular   aug         fri  ...         1      3         1      success   \n",
       "\n",
       "  emp_var_rate  cons_price_idx  cons_conf_idx  euribor3m  nr_employed  y  \n",
       "0          1.4          93.444          -36.1      4.963       5228.1  0  \n",
       "1         -0.1          93.200          -42.0      4.021       5195.8  0  \n",
       "2         -1.7          94.055          -39.8      0.729       4991.6  1  \n",
       "3         -1.8          93.075          -47.1      1.405       5099.1  0  \n",
       "4         -2.9          92.201          -31.4      0.869       5076.2  1  \n",
       "\n",
       "[5 rows x 21 columns]"
      ]
     },
     "execution_count": 4,
     "metadata": {},
     "output_type": "execute_result"
    }
   ],
   "source": [
    "data.head()"
   ]
  },
  {
   "cell_type": "code",
   "execution_count": 5,
   "metadata": {},
   "outputs": [
    {
     "data": {
      "text/plain": [
       "Index(['age', 'job', 'marital', 'education', 'default', 'housing', 'loan',\n",
       "       'contact', 'month', 'day_of_week', 'duration', 'campaign', 'pdays',\n",
       "       'previous', 'poutcome', 'emp_var_rate', 'cons_price_idx',\n",
       "       'cons_conf_idx', 'euribor3m', 'nr_employed', 'y'],\n",
       "      dtype='object')"
      ]
     },
     "execution_count": 5,
     "metadata": {},
     "output_type": "execute_result"
    }
   ],
   "source": [
    "data.columns\n",
    "# 部分特征说明：\n",
    "# default:是否有信用违约；housing:是否有房贷；loan：是否有个人贷款；contact：联系方式；month：年度最后一次联系的月份；\n",
    "# day_of_week：最后一次联系的星期；duration：上次通话时长；campaign：针对此用户发起的营销次数；pdays：上次营销行为到现在的天数(999代表未联系)\n",
    "# previous:本次营销行为前和客户联系过的次数；poutcome：上一次营销活动的结果；\n",
    "# emp.var.rate:就业变动率；cons.price.idx:消费物价指数；cons.conf.idx:消费者信心指数；euribor3m:欧元同业拆借利率；nr.employeed：员工数量\n",
    "# Y——客户存钱了吗"
   ]
  },
  {
   "cell_type": "code",
   "execution_count": 6,
   "metadata": {},
   "outputs": [
    {
     "name": "stdout",
     "output_type": "stream",
     "text": [
      "<class 'pandas.core.frame.DataFrame'>\n",
      "RangeIndex: 41188 entries, 0 to 41187\n",
      "Data columns (total 21 columns):\n",
      "age               41188 non-null int64\n",
      "job               41188 non-null object\n",
      "marital           41188 non-null object\n",
      "education         41188 non-null object\n",
      "default           41188 non-null object\n",
      "housing           41188 non-null object\n",
      "loan              41188 non-null object\n",
      "contact           41188 non-null object\n",
      "month             41188 non-null object\n",
      "day_of_week       41188 non-null object\n",
      "duration          41188 non-null int64\n",
      "campaign          41188 non-null int64\n",
      "pdays             41188 non-null int64\n",
      "previous          41188 non-null int64\n",
      "poutcome          41188 non-null object\n",
      "emp_var_rate      41188 non-null float64\n",
      "cons_price_idx    41188 non-null float64\n",
      "cons_conf_idx     41188 non-null float64\n",
      "euribor3m         41188 non-null float64\n",
      "nr_employed       41188 non-null float64\n",
      "y                 41188 non-null int64\n",
      "dtypes: float64(5), int64(6), object(10)\n",
      "memory usage: 6.6+ MB\n"
     ]
    }
   ],
   "source": [
    "data.info()     # 未见显式空值"
   ]
  },
  {
   "cell_type": "code",
   "execution_count": 7,
   "metadata": {},
   "outputs": [
    {
     "data": {
      "text/plain": [
       "(41188, 21)"
      ]
     },
     "execution_count": 7,
     "metadata": {},
     "output_type": "execute_result"
    }
   ],
   "source": [
    "data.dropna()\n",
    "data.shape"
   ]
  },
  {
   "cell_type": "code",
   "execution_count": 8,
   "metadata": {},
   "outputs": [
    {
     "data": {
      "text/plain": [
       "(41188, 21)"
      ]
     },
     "execution_count": 8,
     "metadata": {},
     "output_type": "execute_result"
    }
   ],
   "source": [
    "data.drop_duplicates()\n",
    "data.shape"
   ]
  },
  {
   "cell_type": "code",
   "execution_count": 9,
   "metadata": {},
   "outputs": [
    {
     "data": {
      "text/plain": [
       "array(['basic.4y', 'unknown', 'university.degree', 'high.school',\n",
       "       'basic.9y', 'professional.course', 'basic.6y', 'illiterate'],\n",
       "      dtype=object)"
      ]
     },
     "execution_count": 9,
     "metadata": {},
     "output_type": "execute_result"
    }
   ],
   "source": [
    "data['education'].unique()"
   ]
  },
  {
   "cell_type": "code",
   "execution_count": 10,
   "metadata": {},
   "outputs": [],
   "source": [
    "data['education']=np.where(data['education']=='basic.4y','Basic',data['education'])\n",
    "data['education']=np.where(data['education']=='basic.6y','Basic',data['education'])\n",
    "data['education']=np.where(data['education']=='basic.9y','Basic',data['education'])"
   ]
  },
  {
   "cell_type": "code",
   "execution_count": 11,
   "metadata": {},
   "outputs": [
    {
     "data": {
      "text/plain": [
       "array(['Basic', 'unknown', 'university.degree', 'high.school',\n",
       "       'professional.course', 'illiterate'], dtype=object)"
      ]
     },
     "execution_count": 11,
     "metadata": {},
     "output_type": "execute_result"
    }
   ],
   "source": [
    "data['education'].unique()"
   ]
  },
  {
   "cell_type": "markdown",
   "metadata": {},
   "source": [
    "### Data Clean"
   ]
  },
  {
   "cell_type": "code",
   "execution_count": 12,
   "metadata": {},
   "outputs": [
    {
     "name": "stdout",
     "output_type": "stream",
     "text": [
      "['job', 'marital', 'education', 'default', 'housing', 'loan', 'contact', 'month', 'day_of_week', 'poutcome']\n"
     ]
    }
   ],
   "source": [
    "cat_vars = ['job','marital','education','default','housing','loan','contact','month','day_of_week','poutcome']     #类别变量(离散型)\n",
    "print(cat_vars)"
   ]
  },
  {
   "cell_type": "code",
   "execution_count": 13,
   "metadata": {},
   "outputs": [
    {
     "name": "stdout",
     "output_type": "stream",
     "text": [
      "['job', 'marital', 'education', 'default', 'housing', 'loan', 'contact', 'month', 'day_of_week', 'poutcome', 'pdays']\n",
      "feature job has 330 rows missing,missing_rate is 0.8%\n",
      "feature marital has 80 rows missing,missing_rate is 0.2%\n",
      "feature education has 1731 rows missing,missing_rate is 4.2%\n",
      "feature default has 8597 rows missing,missing_rate is 20.9%\n",
      "feature housing has 990 rows missing,missing_rate is 2.4%\n",
      "feature loan has 990 rows missing,missing_rate is 2.4%\n",
      "feature poutcome has 35563 rows missing,missing_rate is 86.3%\n",
      "feature pdays has 39673 rows missing,missing_rate is 96.3%\n"
     ]
    }
   ],
   "source": [
    "# dataFrame中无显式缺失值,缺失值以unknown,nonexistent,999表现\n",
    "am_cat_var = list.copy(cat_vars)\n",
    "am_cat_var.append('pdays')\n",
    "print(am_cat_var)\n",
    "total = data.shape[0]\n",
    "def print_missing_value_and_pct(data,am_cat_var):    \n",
    "    for col in am_cat_var:\n",
    "        value_map = data[col].value_counts().to_dict()\n",
    "        if 'unknown' in value_map.keys():\n",
    "            missing_value = value_map['unknown']\n",
    "        elif 'nonexistent' in value_map.keys():\n",
    "            missing_value = value_map['nonexistent']\n",
    "        elif 999 in value_map.keys():\n",
    "            missing_value = value_map[999]     # 不是字符串类型\n",
    "        else:\n",
    "            continue\n",
    "        print(f\"feature {col} has {missing_value} rows missing,missing_rate is {round(missing_value/total,3)*100}%\")\n",
    "print_missing_value_and_pct(data,am_cat_var)"
   ]
  },
  {
   "cell_type": "code",
   "execution_count": 14,
   "metadata": {},
   "outputs": [
    {
     "data": {
      "text/plain": [
       "failure         4252\n",
       "nonexistent    35563\n",
       "success         1373\n",
       "Name: poutcome, dtype: int64"
      ]
     },
     "execution_count": 14,
     "metadata": {},
     "output_type": "execute_result"
    }
   ],
   "source": [
    "data['poutcome'].value_counts().sort_index()"
   ]
  },
  {
   "cell_type": "code",
   "execution_count": 15,
   "metadata": {},
   "outputs": [
    {
     "data": {
      "text/html": [
       "<div>\n",
       "<style scoped>\n",
       "    .dataframe tbody tr th:only-of-type {\n",
       "        vertical-align: middle;\n",
       "    }\n",
       "\n",
       "    .dataframe tbody tr th {\n",
       "        vertical-align: top;\n",
       "    }\n",
       "\n",
       "    .dataframe thead th {\n",
       "        text-align: right;\n",
       "    }\n",
       "</style>\n",
       "<table border=\"1\" class=\"dataframe\">\n",
       "  <thead>\n",
       "    <tr style=\"text-align: right;\">\n",
       "      <th>poutcome</th>\n",
       "      <th>failure</th>\n",
       "      <th>nonexistent</th>\n",
       "      <th>success</th>\n",
       "    </tr>\n",
       "    <tr>\n",
       "      <th>pdays</th>\n",
       "      <th></th>\n",
       "      <th></th>\n",
       "      <th></th>\n",
       "    </tr>\n",
       "  </thead>\n",
       "  <tbody>\n",
       "    <tr>\n",
       "      <td>0</td>\n",
       "      <td>0</td>\n",
       "      <td>0</td>\n",
       "      <td>15</td>\n",
       "    </tr>\n",
       "    <tr>\n",
       "      <td>1</td>\n",
       "      <td>0</td>\n",
       "      <td>0</td>\n",
       "      <td>26</td>\n",
       "    </tr>\n",
       "    <tr>\n",
       "      <td>2</td>\n",
       "      <td>0</td>\n",
       "      <td>0</td>\n",
       "      <td>61</td>\n",
       "    </tr>\n",
       "    <tr>\n",
       "      <td>3</td>\n",
       "      <td>4</td>\n",
       "      <td>0</td>\n",
       "      <td>435</td>\n",
       "    </tr>\n",
       "    <tr>\n",
       "      <td>4</td>\n",
       "      <td>2</td>\n",
       "      <td>0</td>\n",
       "      <td>116</td>\n",
       "    </tr>\n",
       "    <tr>\n",
       "      <td>5</td>\n",
       "      <td>4</td>\n",
       "      <td>0</td>\n",
       "      <td>42</td>\n",
       "    </tr>\n",
       "    <tr>\n",
       "      <td>6</td>\n",
       "      <td>25</td>\n",
       "      <td>0</td>\n",
       "      <td>387</td>\n",
       "    </tr>\n",
       "    <tr>\n",
       "      <td>7</td>\n",
       "      <td>15</td>\n",
       "      <td>0</td>\n",
       "      <td>45</td>\n",
       "    </tr>\n",
       "    <tr>\n",
       "      <td>8</td>\n",
       "      <td>6</td>\n",
       "      <td>0</td>\n",
       "      <td>12</td>\n",
       "    </tr>\n",
       "    <tr>\n",
       "      <td>9</td>\n",
       "      <td>24</td>\n",
       "      <td>0</td>\n",
       "      <td>40</td>\n",
       "    </tr>\n",
       "    <tr>\n",
       "      <td>10</td>\n",
       "      <td>7</td>\n",
       "      <td>0</td>\n",
       "      <td>45</td>\n",
       "    </tr>\n",
       "    <tr>\n",
       "      <td>11</td>\n",
       "      <td>3</td>\n",
       "      <td>0</td>\n",
       "      <td>25</td>\n",
       "    </tr>\n",
       "    <tr>\n",
       "      <td>12</td>\n",
       "      <td>13</td>\n",
       "      <td>0</td>\n",
       "      <td>45</td>\n",
       "    </tr>\n",
       "    <tr>\n",
       "      <td>13</td>\n",
       "      <td>8</td>\n",
       "      <td>0</td>\n",
       "      <td>28</td>\n",
       "    </tr>\n",
       "    <tr>\n",
       "      <td>14</td>\n",
       "      <td>5</td>\n",
       "      <td>0</td>\n",
       "      <td>15</td>\n",
       "    </tr>\n",
       "    <tr>\n",
       "      <td>15</td>\n",
       "      <td>9</td>\n",
       "      <td>0</td>\n",
       "      <td>15</td>\n",
       "    </tr>\n",
       "    <tr>\n",
       "      <td>16</td>\n",
       "      <td>2</td>\n",
       "      <td>0</td>\n",
       "      <td>9</td>\n",
       "    </tr>\n",
       "    <tr>\n",
       "      <td>17</td>\n",
       "      <td>5</td>\n",
       "      <td>0</td>\n",
       "      <td>3</td>\n",
       "    </tr>\n",
       "    <tr>\n",
       "      <td>18</td>\n",
       "      <td>5</td>\n",
       "      <td>0</td>\n",
       "      <td>2</td>\n",
       "    </tr>\n",
       "    <tr>\n",
       "      <td>19</td>\n",
       "      <td>1</td>\n",
       "      <td>0</td>\n",
       "      <td>2</td>\n",
       "    </tr>\n",
       "    <tr>\n",
       "      <td>20</td>\n",
       "      <td>1</td>\n",
       "      <td>0</td>\n",
       "      <td>0</td>\n",
       "    </tr>\n",
       "    <tr>\n",
       "      <td>21</td>\n",
       "      <td>2</td>\n",
       "      <td>0</td>\n",
       "      <td>0</td>\n",
       "    </tr>\n",
       "    <tr>\n",
       "      <td>22</td>\n",
       "      <td>0</td>\n",
       "      <td>0</td>\n",
       "      <td>3</td>\n",
       "    </tr>\n",
       "    <tr>\n",
       "      <td>25</td>\n",
       "      <td>1</td>\n",
       "      <td>0</td>\n",
       "      <td>0</td>\n",
       "    </tr>\n",
       "    <tr>\n",
       "      <td>26</td>\n",
       "      <td>0</td>\n",
       "      <td>0</td>\n",
       "      <td>1</td>\n",
       "    </tr>\n",
       "    <tr>\n",
       "      <td>27</td>\n",
       "      <td>0</td>\n",
       "      <td>0</td>\n",
       "      <td>1</td>\n",
       "    </tr>\n",
       "    <tr>\n",
       "      <td>999</td>\n",
       "      <td>4110</td>\n",
       "      <td>35563</td>\n",
       "      <td>0</td>\n",
       "    </tr>\n",
       "  </tbody>\n",
       "</table>\n",
       "</div>"
      ],
      "text/plain": [
       "poutcome  failure  nonexistent  success\n",
       "pdays                                  \n",
       "0               0            0       15\n",
       "1               0            0       26\n",
       "2               0            0       61\n",
       "3               4            0      435\n",
       "4               2            0      116\n",
       "5               4            0       42\n",
       "6              25            0      387\n",
       "7              15            0       45\n",
       "8               6            0       12\n",
       "9              24            0       40\n",
       "10              7            0       45\n",
       "11              3            0       25\n",
       "12             13            0       45\n",
       "13              8            0       28\n",
       "14              5            0       15\n",
       "15              9            0       15\n",
       "16              2            0        9\n",
       "17              5            0        3\n",
       "18              5            0        2\n",
       "19              1            0        2\n",
       "20              1            0        0\n",
       "21              2            0        0\n",
       "22              0            0        3\n",
       "25              1            0        0\n",
       "26              0            0        1\n",
       "27              0            0        1\n",
       "999          4110        35563        0"
      ]
     },
     "execution_count": 15,
     "metadata": {},
     "output_type": "execute_result"
    }
   ],
   "source": [
    "pd.crosstab(data['poutcome'],data['pdays']).transpose()"
   ]
  },
  {
   "cell_type": "code",
   "execution_count": 16,
   "metadata": {},
   "outputs": [
    {
     "data": {
      "text/plain": [
       "0         15\n",
       "1         26\n",
       "2         61\n",
       "3        439\n",
       "4        118\n",
       "5         46\n",
       "6        412\n",
       "7         60\n",
       "8         18\n",
       "9         64\n",
       "10        52\n",
       "11        28\n",
       "12        58\n",
       "13        36\n",
       "14        20\n",
       "15        24\n",
       "16        11\n",
       "17         8\n",
       "18         7\n",
       "19         3\n",
       "20         1\n",
       "21         2\n",
       "22         3\n",
       "25         1\n",
       "26         1\n",
       "27         1\n",
       "999    39673\n",
       "Name: pdays, dtype: int64"
      ]
     },
     "execution_count": 16,
     "metadata": {},
     "output_type": "execute_result"
    }
   ],
   "source": [
    "# data_1 = data.drop(columns='poutcomes',axis=1)     虽然缺失比例很高，但不能随便删\n",
    "data['pdays'].value_counts().sort_index()"
   ]
  },
  {
   "cell_type": "code",
   "execution_count": 17,
   "metadata": {},
   "outputs": [
    {
     "data": {
      "text/plain": [
       "(array([ 15.,  26.,  61., 439., 118.,  46., 412.,  60.,  18.,   0.,  64.,\n",
       "         52.,  28.,  58.,  36.,  20.,  24.,  11.,   8.,   0.,   7.,   3.,\n",
       "          1.,   2.,   3.,   0.,   0.,   1.,   1.,   1.]),\n",
       " array([ 0. ,  0.9,  1.8,  2.7,  3.6,  4.5,  5.4,  6.3,  7.2,  8.1,  9. ,\n",
       "         9.9, 10.8, 11.7, 12.6, 13.5, 14.4, 15.3, 16.2, 17.1, 18. , 18.9,\n",
       "        19.8, 20.7, 21.6, 22.5, 23.4, 24.3, 25.2, 26.1, 27. ]),\n",
       " <a list of 30 Patch objects>)"
      ]
     },
     "execution_count": 17,
     "metadata": {},
     "output_type": "execute_result"
    },
    {
     "data": {
      "image/png": "[encoded data removed]",
      "text/plain": [
       "<Figure size 432x288 with 1 Axes>"
      ]
     },
     "metadata": {
      "needs_background": "light"
     },
     "output_type": "display_data"
    }
   ],
   "source": [
    "ser_pdays = data['pdays'][data['pdays']!=999]\n",
    "plt.hist(ser_pdays,bins=30,rwidth=0.8)"
   ]
  },
  {
   "cell_type": "code",
   "execution_count": 18,
   "metadata": {},
   "outputs": [
    {
     "data": {
      "text/html": [
       "<div>\n",
       "<style scoped>\n",
       "    .dataframe tbody tr th:only-of-type {\n",
       "        vertical-align: middle;\n",
       "    }\n",
       "\n",
       "    .dataframe tbody tr th {\n",
       "        vertical-align: top;\n",
       "    }\n",
       "\n",
       "    .dataframe thead th {\n",
       "        text-align: right;\n",
       "    }\n",
       "</style>\n",
       "<table border=\"1\" class=\"dataframe\">\n",
       "  <thead>\n",
       "    <tr style=\"text-align: right;\">\n",
       "      <th>y</th>\n",
       "      <th>0</th>\n",
       "      <th>1</th>\n",
       "    </tr>\n",
       "    <tr>\n",
       "      <th>pdays</th>\n",
       "      <th></th>\n",
       "      <th></th>\n",
       "    </tr>\n",
       "  </thead>\n",
       "  <tbody>\n",
       "    <tr>\n",
       "      <td>0</td>\n",
       "      <td>47</td>\n",
       "      <td>55</td>\n",
       "    </tr>\n",
       "    <tr>\n",
       "      <td>3</td>\n",
       "      <td>213</td>\n",
       "      <td>390</td>\n",
       "    </tr>\n",
       "    <tr>\n",
       "      <td>6</td>\n",
       "      <td>149</td>\n",
       "      <td>341</td>\n",
       "    </tr>\n",
       "    <tr>\n",
       "      <td>9</td>\n",
       "      <td>64</td>\n",
       "      <td>80</td>\n",
       "    </tr>\n",
       "    <tr>\n",
       "      <td>12</td>\n",
       "      <td>49</td>\n",
       "      <td>65</td>\n",
       "    </tr>\n",
       "    <tr>\n",
       "      <td>15</td>\n",
       "      <td>19</td>\n",
       "      <td>24</td>\n",
       "    </tr>\n",
       "    <tr>\n",
       "      <td>18</td>\n",
       "      <td>6</td>\n",
       "      <td>5</td>\n",
       "    </tr>\n",
       "    <tr>\n",
       "      <td>21</td>\n",
       "      <td>1</td>\n",
       "      <td>4</td>\n",
       "    </tr>\n",
       "    <tr>\n",
       "      <td>24</td>\n",
       "      <td>0</td>\n",
       "      <td>2</td>\n",
       "    </tr>\n",
       "    <tr>\n",
       "      <td>27</td>\n",
       "      <td>0</td>\n",
       "      <td>1</td>\n",
       "    </tr>\n",
       "    <tr>\n",
       "      <td>999</td>\n",
       "      <td>36000</td>\n",
       "      <td>3673</td>\n",
       "    </tr>\n",
       "  </tbody>\n",
       "</table>\n",
       "</div>"
      ],
      "text/plain": [
       "y          0     1\n",
       "pdays             \n",
       "0         47    55\n",
       "3        213   390\n",
       "6        149   341\n",
       "9         64    80\n",
       "12        49    65\n",
       "15        19    24\n",
       "18         6     5\n",
       "21         1     4\n",
       "24         0     2\n",
       "27         0     1\n",
       "999    36000  3673"
      ]
     },
     "execution_count": 18,
     "metadata": {},
     "output_type": "execute_result"
    }
   ],
   "source": [
    "pdays_level_df = data['pdays'].apply(lambda x:int(x/3)*3)\n",
    "pd.crosstab(pdays_level_df,data['y'])"
   ]
  },
  {
   "cell_type": "markdown",
   "metadata": {},
   "source": [
    "#### 处理空值策略，先清除独立且少量的空值，再处理大量且与其它有关联关系的空值，此处先清除marital和job的空值"
   ]
  },
  {
   "cell_type": "code",
   "execution_count": 19,
   "metadata": {},
   "outputs": [
    {
     "data": {
      "text/plain": [
       "married     24928\n",
       "single      11568\n",
       "divorced     4612\n",
       "Name: marital, dtype: int64"
      ]
     },
     "execution_count": 19,
     "metadata": {},
     "output_type": "execute_result"
    }
   ],
   "source": [
    "data.drop(data[data['marital']=='unknown'].index,inplace=True,axis=0)\n",
    "data.marital.value_counts()"
   ]
  },
  {
   "cell_type": "code",
   "execution_count": 20,
   "metadata": {},
   "outputs": [
    {
     "data": {
      "text/plain": [
       "admin.           10408\n",
       "blue-collar       9240\n",
       "technician        6731\n",
       "services          3963\n",
       "management        2921\n",
       "retired           1715\n",
       "entrepreneur      1453\n",
       "self-employed     1416\n",
       "housemaid         1057\n",
       "unemployed        1009\n",
       "student            874\n",
       "Name: job, dtype: int64"
      ]
     },
     "execution_count": 20,
     "metadata": {},
     "output_type": "execute_result"
    }
   ],
   "source": [
    "data.drop(data[data['job']=='unknown'].index,inplace=True,axis=0)\n",
    "data.job.value_counts()"
   ]
  },
  {
   "cell_type": "markdown",
   "metadata": {},
   "source": [
    "#### loan和housing的缺失值高度相关，可在检查后清除"
   ]
  },
  {
   "cell_type": "code",
   "execution_count": 21,
   "metadata": {},
   "outputs": [
    {
     "data": {
      "text/html": [
       "<div>\n",
       "<style scoped>\n",
       "    .dataframe tbody tr th:only-of-type {\n",
       "        vertical-align: middle;\n",
       "    }\n",
       "\n",
       "    .dataframe tbody tr th {\n",
       "        vertical-align: top;\n",
       "    }\n",
       "\n",
       "    .dataframe thead th {\n",
       "        text-align: right;\n",
       "    }\n",
       "</style>\n",
       "<table border=\"1\" class=\"dataframe\">\n",
       "  <thead>\n",
       "    <tr style=\"text-align: right;\">\n",
       "      <th>loan</th>\n",
       "      <th>no</th>\n",
       "      <th>unknown</th>\n",
       "      <th>yes</th>\n",
       "    </tr>\n",
       "    <tr>\n",
       "      <th>housing</th>\n",
       "      <th></th>\n",
       "      <th></th>\n",
       "      <th></th>\n",
       "    </tr>\n",
       "  </thead>\n",
       "  <tbody>\n",
       "    <tr>\n",
       "      <td>no</td>\n",
       "      <td>15897</td>\n",
       "      <td>0</td>\n",
       "      <td>2530</td>\n",
       "    </tr>\n",
       "    <tr>\n",
       "      <td>unknown</td>\n",
       "      <td>0</td>\n",
       "      <td>984</td>\n",
       "      <td>0</td>\n",
       "    </tr>\n",
       "    <tr>\n",
       "      <td>yes</td>\n",
       "      <td>17723</td>\n",
       "      <td>0</td>\n",
       "      <td>3653</td>\n",
       "    </tr>\n",
       "  </tbody>\n",
       "</table>\n",
       "</div>"
      ],
      "text/plain": [
       "loan        no  unknown   yes\n",
       "housing                      \n",
       "no       15897        0  2530\n",
       "unknown      0      984     0\n",
       "yes      17723        0  3653"
      ]
     },
     "execution_count": 21,
     "metadata": {},
     "output_type": "execute_result"
    }
   ],
   "source": [
    "pd.crosstab(data.housing,data.loan)     # 两项贷款均未知，可以直接删除"
   ]
  },
  {
   "cell_type": "code",
   "execution_count": 22,
   "metadata": {},
   "outputs": [
    {
     "data": {
      "text/plain": [
       "yes    21376\n",
       "no     18427\n",
       "Name: housing, dtype: int64"
      ]
     },
     "execution_count": 22,
     "metadata": {},
     "output_type": "execute_result"
    }
   ],
   "source": [
    "data.drop(data[data['housing']=='unknown'].index,inplace=True,axis=0)\n",
    "data['housing'].value_counts()"
   ]
  },
  {
   "cell_type": "code",
   "execution_count": 23,
   "metadata": {},
   "outputs": [
    {
     "data": {
      "text/plain": [
       "no     33620\n",
       "yes     6183\n",
       "Name: loan, dtype: int64"
      ]
     },
     "execution_count": 23,
     "metadata": {},
     "output_type": "execute_result"
    }
   ],
   "source": [
    "data['loan'].value_counts()"
   ]
  },
  {
   "cell_type": "markdown",
   "metadata": {},
   "source": [
    "#### 对于学历的缺失值，根据这个职位的各个学历的权重随机生成来填补"
   ]
  },
  {
   "cell_type": "code",
   "execution_count": 24,
   "metadata": {},
   "outputs": [],
   "source": [
    "import random"
   ]
  },
  {
   "cell_type": "code",
   "execution_count": 25,
   "metadata": {},
   "outputs": [
    {
     "data": {
      "text/html": [
       "<div>\n",
       "<style scoped>\n",
       "    .dataframe tbody tr th:only-of-type {\n",
       "        vertical-align: middle;\n",
       "    }\n",
       "\n",
       "    .dataframe tbody tr th {\n",
       "        vertical-align: top;\n",
       "    }\n",
       "\n",
       "    .dataframe thead th {\n",
       "        text-align: right;\n",
       "    }\n",
       "</style>\n",
       "<table border=\"1\" class=\"dataframe\">\n",
       "  <thead>\n",
       "    <tr style=\"text-align: right;\">\n",
       "      <th>job</th>\n",
       "      <th>admin.</th>\n",
       "      <th>blue-collar</th>\n",
       "      <th>entrepreneur</th>\n",
       "      <th>housemaid</th>\n",
       "      <th>management</th>\n",
       "      <th>retired</th>\n",
       "      <th>self-employed</th>\n",
       "      <th>services</th>\n",
       "      <th>student</th>\n",
       "      <th>technician</th>\n",
       "      <th>unemployed</th>\n",
       "    </tr>\n",
       "    <tr>\n",
       "      <th>education</th>\n",
       "      <th></th>\n",
       "      <th></th>\n",
       "      <th></th>\n",
       "      <th></th>\n",
       "      <th></th>\n",
       "      <th></th>\n",
       "      <th></th>\n",
       "      <th></th>\n",
       "      <th></th>\n",
       "      <th></th>\n",
       "      <th></th>\n",
       "    </tr>\n",
       "  </thead>\n",
       "  <tbody>\n",
       "    <tr>\n",
       "      <td>Basic</td>\n",
       "      <td>713</td>\n",
       "      <td>7159</td>\n",
       "      <td>408</td>\n",
       "      <td>624</td>\n",
       "      <td>343</td>\n",
       "      <td>794</td>\n",
       "      <td>324</td>\n",
       "      <td>723</td>\n",
       "      <td>132</td>\n",
       "      <td>520</td>\n",
       "      <td>322</td>\n",
       "    </tr>\n",
       "    <tr>\n",
       "      <td>high.school</td>\n",
       "      <td>3245</td>\n",
       "      <td>858</td>\n",
       "      <td>227</td>\n",
       "      <td>170</td>\n",
       "      <td>291</td>\n",
       "      <td>267</td>\n",
       "      <td>117</td>\n",
       "      <td>2616</td>\n",
       "      <td>349</td>\n",
       "      <td>854</td>\n",
       "      <td>250</td>\n",
       "    </tr>\n",
       "    <tr>\n",
       "      <td>illiterate</td>\n",
       "      <td>1</td>\n",
       "      <td>8</td>\n",
       "      <td>2</td>\n",
       "      <td>1</td>\n",
       "      <td>0</td>\n",
       "      <td>3</td>\n",
       "      <td>3</td>\n",
       "      <td>0</td>\n",
       "      <td>0</td>\n",
       "      <td>0</td>\n",
       "      <td>0</td>\n",
       "    </tr>\n",
       "    <tr>\n",
       "      <td>professional.course</td>\n",
       "      <td>355</td>\n",
       "      <td>443</td>\n",
       "      <td>129</td>\n",
       "      <td>59</td>\n",
       "      <td>85</td>\n",
       "      <td>235</td>\n",
       "      <td>160</td>\n",
       "      <td>213</td>\n",
       "      <td>42</td>\n",
       "      <td>3241</td>\n",
       "      <td>138</td>\n",
       "    </tr>\n",
       "    <tr>\n",
       "      <td>university.degree</td>\n",
       "      <td>5623</td>\n",
       "      <td>92</td>\n",
       "      <td>594</td>\n",
       "      <td>133</td>\n",
       "      <td>2009</td>\n",
       "      <td>278</td>\n",
       "      <td>745</td>\n",
       "      <td>164</td>\n",
       "      <td>165</td>\n",
       "      <td>1765</td>\n",
       "      <td>253</td>\n",
       "    </tr>\n",
       "    <tr>\n",
       "      <td>unknown</td>\n",
       "      <td>244</td>\n",
       "      <td>441</td>\n",
       "      <td>57</td>\n",
       "      <td>41</td>\n",
       "      <td>122</td>\n",
       "      <td>94</td>\n",
       "      <td>27</td>\n",
       "      <td>146</td>\n",
       "      <td>163</td>\n",
       "      <td>204</td>\n",
       "      <td>19</td>\n",
       "    </tr>\n",
       "  </tbody>\n",
       "</table>\n",
       "</div>"
      ],
      "text/plain": [
       "job                  admin.  blue-collar  entrepreneur  housemaid  management  \\\n",
       "education                                                                       \n",
       "Basic                   713         7159           408        624         343   \n",
       "high.school            3245          858           227        170         291   \n",
       "illiterate                1            8             2          1           0   \n",
       "professional.course     355          443           129         59          85   \n",
       "university.degree      5623           92           594        133        2009   \n",
       "unknown                 244          441            57         41         122   \n",
       "\n",
       "job                  retired  self-employed  services  student  technician  \\\n",
       "education                                                                    \n",
       "Basic                    794            324       723      132         520   \n",
       "high.school              267            117      2616      349         854   \n",
       "illiterate                 3              3         0        0           0   \n",
       "professional.course      235            160       213       42        3241   \n",
       "university.degree        278            745       164      165        1765   \n",
       "unknown                   94             27       146      163         204   \n",
       "\n",
       "job                  unemployed  \n",
       "education                        \n",
       "Basic                       322  \n",
       "high.school                 250  \n",
       "illiterate                    0  \n",
       "professional.course         138  \n",
       "university.degree           253  \n",
       "unknown                      19  "
      ]
     },
     "execution_count": 25,
     "metadata": {},
     "output_type": "execute_result"
    }
   ],
   "source": [
    "df_edu_job = pd.crosstab(data.education,data.job)\n",
    "df_edu_job"
   ]
  },
  {
   "cell_type": "code",
   "execution_count": 26,
   "metadata": {},
   "outputs": [],
   "source": [
    "df_edu_job.drop(index='unknown',inplace=True)     # 排除educationunknown的影响"
   ]
  },
  {
   "cell_type": "code",
   "execution_count": 27,
   "metadata": {},
   "outputs": [],
   "source": [
    "# for edu_val in edu_pro_val:\n",
    "#     print(f\"count of {edu_val}:{data[(data['education'] == edu_val) & (data['job'] == 'admin.') ].shape[0]}\")\n",
    "# 空值处理：先处理marital和job，再处理loan/housing，再处理edu，最后处理default\n",
    "# list({edu_val:data[(data['education'] == edu_val) & (data['job'] == 'admin.') ].shape[0]} for edu_val in edu_pro_val)\n",
    "def run_out_edu(row):\n",
    "    if row['education'] != 'unknown':\n",
    "        return row\n",
    "    else:\n",
    "        this_job = row['job']\n",
    "        all_job_list = list(data['job'].unique())\n",
    "        for job in all_job_list:\n",
    "            if job != this_job:\n",
    "                continue\n",
    "            else:\n",
    "                total_weight = 0\n",
    "                cur_weight = 0\n",
    "                edu_dict = dict(df_edu_job[job])     # df_edu_job 由crosstab求得\n",
    "                total_weight = df_edu_job[job].sum()\n",
    "                for edu in edu_dict.keys():\n",
    "                    edu_weight = edu_dict[edu]\n",
    "                    rand_num = random.uniform(0,total_weight)\n",
    "                    cur_weight += edu_weight\n",
    "                    if cur_weight >= rand_num:\n",
    "                        row['education'] = edu\n",
    "                        break\n",
    "                break\n",
    "        return row"
   ]
  },
  {
   "cell_type": "code",
   "execution_count": 28,
   "metadata": {},
   "outputs": [
    {
     "data": {
      "text/plain": [
       "Basic                  12645\n",
       "university.degree      11955\n",
       "high.school             9726\n",
       "professional.course     5264\n",
       "illiterate               213\n",
       "Name: education, dtype: int64"
      ]
     },
     "execution_count": 28,
     "metadata": {},
     "output_type": "execute_result"
    }
   ],
   "source": [
    "data = data.apply(run_out_edu,axis=1)\n",
    "data['education'].value_counts()"
   ]
  },
  {
   "cell_type": "markdown",
   "metadata": {},
   "source": [
    "#### default unknown 填补策略：满足下列五个条件之三可认为其没有信用违约记录：\n",
    "<p style='color:navy;font-size:14px;'>1.工作属性属于：学生，高管，技术员，经理，自营/创业者</p>\n",
    "<p style='color:navy;font-size:14px;'>2.年龄小于24或年龄大于60</p>\n",
    "<p style='color:navy;font-size:14px;'>3.本科学历</p>\n",
    "<p style='color:navy;font-size:14px;'>4.单身</p>\n",
    "<p style='color:navy;font-size:14px;'>5.无房贷及个人贷</p>"
   ]
  },
  {
   "cell_type": "code",
   "execution_count": 29,
   "metadata": {},
   "outputs": [
    {
     "data": {
      "text/plain": [
       "no         31587\n",
       "unknown     8213\n",
       "yes            3\n",
       "Name: default, dtype: int64"
      ]
     },
     "execution_count": 29,
     "metadata": {},
     "output_type": "execute_result"
    }
   ],
   "source": [
    "data['default'].value_counts()"
   ]
  },
  {
   "cell_type": "code",
   "execution_count": 30,
   "metadata": {},
   "outputs": [
    {
     "data": {
      "text/html": [
       "<div>\n",
       "<style scoped>\n",
       "    .dataframe tbody tr th:only-of-type {\n",
       "        vertical-align: middle;\n",
       "    }\n",
       "\n",
       "    .dataframe tbody tr th {\n",
       "        vertical-align: top;\n",
       "    }\n",
       "\n",
       "    .dataframe thead th {\n",
       "        text-align: right;\n",
       "    }\n",
       "</style>\n",
       "<table border=\"1\" class=\"dataframe\">\n",
       "  <thead>\n",
       "    <tr style=\"text-align: right;\">\n",
       "      <th></th>\n",
       "      <th>age</th>\n",
       "      <th>job</th>\n",
       "      <th>marital</th>\n",
       "      <th>education</th>\n",
       "      <th>default</th>\n",
       "      <th>housing</th>\n",
       "      <th>loan</th>\n",
       "      <th>contact</th>\n",
       "      <th>month</th>\n",
       "      <th>day_of_week</th>\n",
       "      <th>...</th>\n",
       "      <th>campaign</th>\n",
       "      <th>pdays</th>\n",
       "      <th>previous</th>\n",
       "      <th>poutcome</th>\n",
       "      <th>emp_var_rate</th>\n",
       "      <th>cons_price_idx</th>\n",
       "      <th>cons_conf_idx</th>\n",
       "      <th>euribor3m</th>\n",
       "      <th>nr_employed</th>\n",
       "      <th>y</th>\n",
       "    </tr>\n",
       "  </thead>\n",
       "  <tbody>\n",
       "    <tr>\n",
       "      <td>229</td>\n",
       "      <td>31</td>\n",
       "      <td>unemployed</td>\n",
       "      <td>married</td>\n",
       "      <td>high.school</td>\n",
       "      <td>yes</td>\n",
       "      <td>no</td>\n",
       "      <td>no</td>\n",
       "      <td>cellular</td>\n",
       "      <td>nov</td>\n",
       "      <td>tue</td>\n",
       "      <td>...</td>\n",
       "      <td>2</td>\n",
       "      <td>999</td>\n",
       "      <td>1</td>\n",
       "      <td>failure</td>\n",
       "      <td>-0.1</td>\n",
       "      <td>93.200</td>\n",
       "      <td>-42.0</td>\n",
       "      <td>4.153</td>\n",
       "      <td>5195.8</td>\n",
       "      <td>0</td>\n",
       "    </tr>\n",
       "    <tr>\n",
       "      <td>6934</td>\n",
       "      <td>48</td>\n",
       "      <td>technician</td>\n",
       "      <td>married</td>\n",
       "      <td>professional.course</td>\n",
       "      <td>yes</td>\n",
       "      <td>no</td>\n",
       "      <td>no</td>\n",
       "      <td>cellular</td>\n",
       "      <td>aug</td>\n",
       "      <td>tue</td>\n",
       "      <td>...</td>\n",
       "      <td>1</td>\n",
       "      <td>999</td>\n",
       "      <td>0</td>\n",
       "      <td>nonexistent</td>\n",
       "      <td>1.4</td>\n",
       "      <td>93.444</td>\n",
       "      <td>-36.1</td>\n",
       "      <td>4.963</td>\n",
       "      <td>5228.1</td>\n",
       "      <td>0</td>\n",
       "    </tr>\n",
       "    <tr>\n",
       "      <td>22050</td>\n",
       "      <td>48</td>\n",
       "      <td>technician</td>\n",
       "      <td>married</td>\n",
       "      <td>professional.course</td>\n",
       "      <td>yes</td>\n",
       "      <td>yes</td>\n",
       "      <td>no</td>\n",
       "      <td>cellular</td>\n",
       "      <td>aug</td>\n",
       "      <td>tue</td>\n",
       "      <td>...</td>\n",
       "      <td>1</td>\n",
       "      <td>999</td>\n",
       "      <td>0</td>\n",
       "      <td>nonexistent</td>\n",
       "      <td>1.4</td>\n",
       "      <td>93.444</td>\n",
       "      <td>-36.1</td>\n",
       "      <td>4.963</td>\n",
       "      <td>5228.1</td>\n",
       "      <td>0</td>\n",
       "    </tr>\n",
       "  </tbody>\n",
       "</table>\n",
       "<p>3 rows × 21 columns</p>\n",
       "</div>"
      ],
      "text/plain": [
       "       age         job  marital            education default housing loan  \\\n",
       "229     31  unemployed  married          high.school     yes      no   no   \n",
       "6934    48  technician  married  professional.course     yes      no   no   \n",
       "22050   48  technician  married  professional.course     yes     yes   no   \n",
       "\n",
       "        contact month day_of_week  ...  campaign  pdays  previous  \\\n",
       "229    cellular   nov         tue  ...         2    999         1   \n",
       "6934   cellular   aug         tue  ...         1    999         0   \n",
       "22050  cellular   aug         tue  ...         1    999         0   \n",
       "\n",
       "          poutcome emp_var_rate  cons_price_idx  cons_conf_idx  euribor3m  \\\n",
       "229        failure         -0.1          93.200          -42.0      4.153   \n",
       "6934   nonexistent          1.4          93.444          -36.1      4.963   \n",
       "22050  nonexistent          1.4          93.444          -36.1      4.963   \n",
       "\n",
       "       nr_employed  y  \n",
       "229         5195.8  0  \n",
       "6934        5228.1  0  \n",
       "22050       5228.1  0  \n",
       "\n",
       "[3 rows x 21 columns]"
      ]
     },
     "execution_count": 30,
     "metadata": {},
     "output_type": "execute_result"
    }
   ],
   "source": [
    "data[data['default']=='yes']"
   ]
  },
  {
   "cell_type": "code",
   "execution_count": 31,
   "metadata": {},
   "outputs": [],
   "source": [
    "def defaultCompareOther(dataset,feature):\n",
    "    tab = pd.crosstab(dataset['default'],dataset[feature]).apply(lambda x:x/x.sum()*100)\n",
    "    tab_pct = tab.transpose()\n",
    "    print(tab_pct)\n",
    "    x = tab_pct.index.values\n",
    "    plt.figure(figsize=(14,3))\n",
    "    plt.plot(x,tab_pct['unknown'],color='green',label='unknown')\n",
    "    plt.plot(x,tab_pct['yes'],color='blue',label='yes')\n",
    "    plt.plot(x,tab_pct['no'],color='red',label='no')\n",
    "    plt.legend()\n",
    "    plt.xlabel(feature)\n",
    "    plt.ylabel('rate')\n",
    "    plt.show()"
   ]
  },
  {
   "cell_type": "code",
   "execution_count": 32,
   "metadata": {},
   "outputs": [
    {
     "name": "stdout",
     "output_type": "stream",
     "text": [
      "default               no    unknown       yes\n",
      "job                                          \n",
      "admin.         87.574894  12.425106  0.000000\n",
      "blue-collar    65.892679  34.107321  0.000000\n",
      "entrepreneur   79.251941  20.748059  0.000000\n",
      "housemaid      70.136187  29.863813  0.000000\n",
      "management     84.315789  15.684211  0.000000\n",
      "retired        77.079593  22.920407  0.000000\n",
      "self-employed  80.305233  19.694767  0.000000\n",
      "services       76.799586  23.200414  0.000000\n",
      "student        87.896592  12.103408  0.000000\n",
      "technician     85.571081  14.398542  0.030377\n",
      "unemployed     76.578411  23.319756  0.101833\n"
     ]
    },
    {
     "data": {
      "image/png": "[encoded data removed]",
      "text/plain": [
       "<Figure size 1008x216 with 1 Axes>"
      ]
     },
     "metadata": {
      "needs_background": "light"
     },
     "output_type": "display_data"
    }
   ],
   "source": [
    "defaultCompareOther(data,'job')"
   ]
  },
  {
   "cell_type": "code",
   "execution_count": 33,
   "metadata": {},
   "outputs": [
    {
     "name": "stdout",
     "output_type": "stream",
     "text": [
      "default                     no    unknown       yes\n",
      "education                                          \n",
      "Basic                66.682483  33.317517  0.000000\n",
      "high.school          82.839811  17.149907  0.010282\n",
      "illiterate           70.892019  29.107981  0.000000\n",
      "professional.course  84.308511  15.653495  0.037994\n",
      "university.degree    87.904642  12.095358  0.000000\n"
     ]
    },
    {
     "data": {
      "image/png": "[encoded data removed]",
      "text/plain": [
       "<Figure size 1008x216 with 1 Axes>"
      ]
     },
     "metadata": {
      "needs_background": "light"
     },
     "output_type": "display_data"
    }
   ],
   "source": [
    "defaultCompareOther(data,'education')"
   ]
  },
  {
   "cell_type": "code",
   "execution_count": 34,
   "metadata": {},
   "outputs": [
    {
     "name": "stdout",
     "output_type": "stream",
     "text": [
      "default          no    unknown       yes\n",
      "marital                                 \n",
      "divorced  82.045556  17.954444  0.000000\n",
      "married   75.105765  24.881792  0.012443\n",
      "single    87.427552  12.572448  0.000000\n"
     ]
    },
    {
     "data": {
      "image/png": "[encoded data removed]",
      "text/plain": [
       "<Figure size 1008x216 with 1 Axes>"
      ]
     },
     "metadata": {
      "needs_background": "light"
     },
     "output_type": "display_data"
    }
   ],
   "source": [
    "defaultCompareOther(data,'marital')"
   ]
  },
  {
   "cell_type": "code",
   "execution_count": 35,
   "metadata": {},
   "outputs": [
    {
     "name": "stdout",
     "output_type": "stream",
     "text": [
      "default           no    unknown       yes\n",
      "age_group                                \n",
      "1          93.184031   6.815969  0.000000\n",
      "2          87.943357  12.049963  0.006680\n",
      "3          72.604412  27.386869  0.008719\n",
      "4          93.425606   6.574394  0.000000\n"
     ]
    },
    {
     "data": {
      "image/png": "[encoded data removed]",
      "text/plain": [
       "<Figure size 1008x216 with 1 Axes>"
      ]
     },
     "metadata": {
      "needs_background": "light"
     },
     "output_type": "display_data"
    }
   ],
   "source": [
    "data['age'].value_counts().sort_index()     # 17-98\n",
    "def into_age_groups(age):\n",
    "    group_code = 0\n",
    "    if age <= 24:\n",
    "        group_code = 1\n",
    "    elif age > 24 and age <= 35:\n",
    "        group_code = 2\n",
    "    elif age > 35 and age <= 60:\n",
    "        group_code = 3\n",
    "    elif age > 60:\n",
    "        group_code = 4\n",
    "    return group_code\n",
    "data['age_group'] = data['age'].apply(lambda x:into_age_groups(x))\n",
    "defaultCompareOther(data,'age_group')\n",
    "# data.drop('age_group',axis=1)"
   ]
  },
  {
   "cell_type": "code",
   "execution_count": 36,
   "metadata": {},
   "outputs": [],
   "source": [
    "def credit_grade_judgement(row):\n",
    "    if row['job'] in ['student','admin','technican','management','self-employed']:\n",
    "        row['credit_grade'] += 1\n",
    "    if row['education'] == 'university.degree':\n",
    "        row['credit_grade'] += 1\n",
    "    if row['marital'] == 'single':\n",
    "        row['credit_grade'] += 1\n",
    "    if row['age'] < 24 or row['age'] > 35:\n",
    "        row['credit_grade'] += 1\n",
    "    if row['loan'] == 'no' and row['housing']:\n",
    "        row['credit_grade'] += 1\n",
    "    return row\n",
    "\n",
    "def modify_part_data(row):\n",
    "    if row['credit_grade'] >= 3 and row['default'] == 'unknown':\n",
    "        row['default'] = 'no'\n",
    "    elif row['credit_grade'] < 3 and row['default'] == 'unknown':\n",
    "        row['default'] = 'yes'\n",
    "    return row"
   ]
  },
  {
   "cell_type": "code",
   "execution_count": 37,
   "metadata": {},
   "outputs": [
    {
     "data": {
      "text/html": [
       "<div>\n",
       "<style scoped>\n",
       "    .dataframe tbody tr th:only-of-type {\n",
       "        vertical-align: middle;\n",
       "    }\n",
       "\n",
       "    .dataframe tbody tr th {\n",
       "        vertical-align: top;\n",
       "    }\n",
       "\n",
       "    .dataframe thead th {\n",
       "        text-align: right;\n",
       "    }\n",
       "</style>\n",
       "<table border=\"1\" class=\"dataframe\">\n",
       "  <thead>\n",
       "    <tr style=\"text-align: right;\">\n",
       "      <th></th>\n",
       "      <th>age</th>\n",
       "      <th>job</th>\n",
       "      <th>marital</th>\n",
       "      <th>education</th>\n",
       "      <th>default</th>\n",
       "      <th>housing</th>\n",
       "      <th>loan</th>\n",
       "      <th>credit_grade</th>\n",
       "    </tr>\n",
       "  </thead>\n",
       "  <tbody>\n",
       "    <tr>\n",
       "      <td>0</td>\n",
       "      <td>44</td>\n",
       "      <td>blue-collar</td>\n",
       "      <td>married</td>\n",
       "      <td>Basic</td>\n",
       "      <td>unknown</td>\n",
       "      <td>yes</td>\n",
       "      <td>no</td>\n",
       "      <td>2</td>\n",
       "    </tr>\n",
       "    <tr>\n",
       "      <td>1</td>\n",
       "      <td>53</td>\n",
       "      <td>technician</td>\n",
       "      <td>married</td>\n",
       "      <td>high.school</td>\n",
       "      <td>no</td>\n",
       "      <td>no</td>\n",
       "      <td>no</td>\n",
       "      <td>2</td>\n",
       "    </tr>\n",
       "    <tr>\n",
       "      <td>2</td>\n",
       "      <td>28</td>\n",
       "      <td>management</td>\n",
       "      <td>single</td>\n",
       "      <td>university.degree</td>\n",
       "      <td>no</td>\n",
       "      <td>yes</td>\n",
       "      <td>no</td>\n",
       "      <td>4</td>\n",
       "    </tr>\n",
       "    <tr>\n",
       "      <td>3</td>\n",
       "      <td>39</td>\n",
       "      <td>services</td>\n",
       "      <td>married</td>\n",
       "      <td>high.school</td>\n",
       "      <td>no</td>\n",
       "      <td>no</td>\n",
       "      <td>no</td>\n",
       "      <td>2</td>\n",
       "    </tr>\n",
       "    <tr>\n",
       "      <td>4</td>\n",
       "      <td>55</td>\n",
       "      <td>retired</td>\n",
       "      <td>married</td>\n",
       "      <td>Basic</td>\n",
       "      <td>no</td>\n",
       "      <td>yes</td>\n",
       "      <td>no</td>\n",
       "      <td>2</td>\n",
       "    </tr>\n",
       "    <tr>\n",
       "      <td>...</td>\n",
       "      <td>...</td>\n",
       "      <td>...</td>\n",
       "      <td>...</td>\n",
       "      <td>...</td>\n",
       "      <td>...</td>\n",
       "      <td>...</td>\n",
       "      <td>...</td>\n",
       "      <td>...</td>\n",
       "    </tr>\n",
       "    <tr>\n",
       "      <td>41183</td>\n",
       "      <td>59</td>\n",
       "      <td>retired</td>\n",
       "      <td>married</td>\n",
       "      <td>high.school</td>\n",
       "      <td>unknown</td>\n",
       "      <td>no</td>\n",
       "      <td>yes</td>\n",
       "      <td>1</td>\n",
       "    </tr>\n",
       "    <tr>\n",
       "      <td>41184</td>\n",
       "      <td>31</td>\n",
       "      <td>housemaid</td>\n",
       "      <td>married</td>\n",
       "      <td>Basic</td>\n",
       "      <td>unknown</td>\n",
       "      <td>no</td>\n",
       "      <td>no</td>\n",
       "      <td>1</td>\n",
       "    </tr>\n",
       "    <tr>\n",
       "      <td>41185</td>\n",
       "      <td>42</td>\n",
       "      <td>admin.</td>\n",
       "      <td>single</td>\n",
       "      <td>university.degree</td>\n",
       "      <td>unknown</td>\n",
       "      <td>yes</td>\n",
       "      <td>yes</td>\n",
       "      <td>3</td>\n",
       "    </tr>\n",
       "    <tr>\n",
       "      <td>41186</td>\n",
       "      <td>48</td>\n",
       "      <td>technician</td>\n",
       "      <td>married</td>\n",
       "      <td>professional.course</td>\n",
       "      <td>no</td>\n",
       "      <td>no</td>\n",
       "      <td>yes</td>\n",
       "      <td>1</td>\n",
       "    </tr>\n",
       "    <tr>\n",
       "      <td>41187</td>\n",
       "      <td>25</td>\n",
       "      <td>student</td>\n",
       "      <td>single</td>\n",
       "      <td>high.school</td>\n",
       "      <td>no</td>\n",
       "      <td>no</td>\n",
       "      <td>no</td>\n",
       "      <td>3</td>\n",
       "    </tr>\n",
       "  </tbody>\n",
       "</table>\n",
       "<p>39803 rows × 8 columns</p>\n",
       "</div>"
      ],
      "text/plain": [
       "       age          job  marital            education  default housing loan  \\\n",
       "0       44  blue-collar  married                Basic  unknown     yes   no   \n",
       "1       53   technician  married          high.school       no      no   no   \n",
       "2       28   management   single    university.degree       no     yes   no   \n",
       "3       39     services  married          high.school       no      no   no   \n",
       "4       55      retired  married                Basic       no     yes   no   \n",
       "...    ...          ...      ...                  ...      ...     ...  ...   \n",
       "41183   59      retired  married          high.school  unknown      no  yes   \n",
       "41184   31    housemaid  married                Basic  unknown      no   no   \n",
       "41185   42       admin.   single    university.degree  unknown     yes  yes   \n",
       "41186   48   technician  married  professional.course       no      no  yes   \n",
       "41187   25      student   single          high.school       no      no   no   \n",
       "\n",
       "       credit_grade  \n",
       "0                 2  \n",
       "1                 2  \n",
       "2                 4  \n",
       "3                 2  \n",
       "4                 2  \n",
       "...             ...  \n",
       "41183             1  \n",
       "41184             1  \n",
       "41185             3  \n",
       "41186             1  \n",
       "41187             3  \n",
       "\n",
       "[39803 rows x 8 columns]"
      ]
     },
     "execution_count": 37,
     "metadata": {},
     "output_type": "execute_result"
    }
   ],
   "source": [
    "data['credit_grade'] = 0\n",
    "data = data.apply(credit_grade_judgement,axis=1)\n",
    "data[['age','job','marital','education','default','housing','loan','credit_grade']]"
   ]
  },
  {
   "cell_type": "code",
   "execution_count": 38,
   "metadata": {},
   "outputs": [
    {
     "data": {
      "text/plain": [
       "no     33581\n",
       "yes     6222\n",
       "Name: default, dtype: int64"
      ]
     },
     "execution_count": 38,
     "metadata": {},
     "output_type": "execute_result"
    }
   ],
   "source": [
    "data = data.apply(modify_part_data,axis=1)\n",
    "data['default'].value_counts()"
   ]
  },
  {
   "cell_type": "code",
   "execution_count": 39,
   "metadata": {},
   "outputs": [
    {
     "data": {
      "text/plain": [
       "(39803, 21)"
      ]
     },
     "execution_count": 39,
     "metadata": {},
     "output_type": "execute_result"
    }
   ],
   "source": [
    "data.drop(columns=['age_group','credit_grade'],axis=1,inplace=True)\n",
    "data.shape"
   ]
  },
  {
   "cell_type": "code",
   "execution_count": 40,
   "metadata": {},
   "outputs": [
    {
     "data": {
      "text/plain": [
       "0    33581\n",
       "1     6222\n",
       "Name: default, dtype: int64"
      ]
     },
     "execution_count": 40,
     "metadata": {},
     "output_type": "execute_result"
    }
   ],
   "source": [
    "data['default'] = data['default'].map({'yes':1,'no':0})\n",
    "data['default'].value_counts()"
   ]
  },
  {
   "cell_type": "code",
   "execution_count": 41,
   "metadata": {},
   "outputs": [
    {
     "name": "stdout",
     "output_type": "stream",
     "text": [
      "feature poutcome has 34372 rows missing,missing_rate is 83.5%\n",
      "feature pdays has 38347 rows missing,missing_rate is 93.10000000000001%\n"
     ]
    }
   ],
   "source": [
    "print_missing_value_and_pct(data,am_cat_var)     # 空值处理过后检查，此处未处理pdays和poutcome的空值"
   ]
  },
  {
   "cell_type": "markdown",
   "metadata": {},
   "source": [
    "### Data Explore"
   ]
  },
  {
   "cell_type": "code",
   "execution_count": 42,
   "metadata": {},
   "outputs": [],
   "source": [
    "from pylab import *  \n",
    "mpl.rcParams['font.sans-serif'] = ['SimHei'] \n",
    "plt.rcParams['axes.unicode_minus'] = False"
   ]
  },
  {
   "cell_type": "code",
   "execution_count": 43,
   "metadata": {},
   "outputs": [
    {
     "data": {
      "text/plain": [
       "0    35316\n",
       "1     4487\n",
       "Name: y, dtype: int64"
      ]
     },
     "execution_count": 43,
     "metadata": {},
     "output_type": "execute_result"
    }
   ],
   "source": [
    "data['y'].value_counts()"
   ]
  },
  {
   "cell_type": "code",
   "execution_count": 44,
   "metadata": {},
   "outputs": [
    {
     "data": {
      "image/png": "[encoded data removed]",
      "text/plain": [
       "<Figure size 432x288 with 1 Axes>"
      ]
     },
     "metadata": {
      "needs_background": "light"
     },
     "output_type": "display_data"
    }
   ],
   "source": [
    "sns.countplot(x='y',data=data,palette='hls')\n",
    "plt.show()"
   ]
  },
  {
   "cell_type": "code",
   "execution_count": 45,
   "metadata": {},
   "outputs": [
    {
     "data": {
      "text/html": [
       "<div>\n",
       "<style scoped>\n",
       "    .dataframe tbody tr th:only-of-type {\n",
       "        vertical-align: middle;\n",
       "    }\n",
       "\n",
       "    .dataframe tbody tr th {\n",
       "        vertical-align: top;\n",
       "    }\n",
       "\n",
       "    .dataframe thead th {\n",
       "        text-align: right;\n",
       "    }\n",
       "</style>\n",
       "<table border=\"1\" class=\"dataframe\">\n",
       "  <thead>\n",
       "    <tr style=\"text-align: right;\">\n",
       "      <th></th>\n",
       "      <th>age</th>\n",
       "      <th>default</th>\n",
       "      <th>duration</th>\n",
       "      <th>campaign</th>\n",
       "      <th>pdays</th>\n",
       "      <th>previous</th>\n",
       "      <th>emp_var_rate</th>\n",
       "      <th>cons_price_idx</th>\n",
       "      <th>cons_conf_idx</th>\n",
       "      <th>euribor3m</th>\n",
       "      <th>nr_employed</th>\n",
       "    </tr>\n",
       "    <tr>\n",
       "      <th>y</th>\n",
       "      <th></th>\n",
       "      <th></th>\n",
       "      <th></th>\n",
       "      <th></th>\n",
       "      <th></th>\n",
       "      <th></th>\n",
       "      <th></th>\n",
       "      <th></th>\n",
       "      <th></th>\n",
       "      <th></th>\n",
       "      <th></th>\n",
       "    </tr>\n",
       "  </thead>\n",
       "  <tbody>\n",
       "    <tr>\n",
       "      <td>0</td>\n",
       "      <td>39.867822</td>\n",
       "      <td>0.166978</td>\n",
       "      <td>221.092309</td>\n",
       "      <td>2.630904</td>\n",
       "      <td>984.269566</td>\n",
       "      <td>0.132490</td>\n",
       "      <td>0.245999</td>\n",
       "      <td>93.601181</td>\n",
       "      <td>-40.611117</td>\n",
       "      <td>3.808003</td>\n",
       "      <td>5176.116052</td>\n",
       "    </tr>\n",
       "    <tr>\n",
       "      <td>1</td>\n",
       "      <td>40.864943</td>\n",
       "      <td>0.072431</td>\n",
       "      <td>553.271897</td>\n",
       "      <td>2.056162</td>\n",
       "      <td>792.726543</td>\n",
       "      <td>0.487854</td>\n",
       "      <td>-1.228438</td>\n",
       "      <td>93.353889</td>\n",
       "      <td>-39.811923</td>\n",
       "      <td>2.129602</td>\n",
       "      <td>5095.551972</td>\n",
       "    </tr>\n",
       "  </tbody>\n",
       "</table>\n",
       "</div>"
      ],
      "text/plain": [
       "         age   default    duration  campaign       pdays  previous  \\\n",
       "y                                                                    \n",
       "0  39.867822  0.166978  221.092309  2.630904  984.269566  0.132490   \n",
       "1  40.864943  0.072431  553.271897  2.056162  792.726543  0.487854   \n",
       "\n",
       "   emp_var_rate  cons_price_idx  cons_conf_idx  euribor3m  nr_employed  \n",
       "y                                                                       \n",
       "0      0.245999       93.601181     -40.611117   3.808003  5176.116052  \n",
       "1     -1.228438       93.353889     -39.811923   2.129602  5095.551972  "
      ]
     },
     "execution_count": 45,
     "metadata": {},
     "output_type": "execute_result"
    }
   ],
   "source": [
    "data.groupby('y').mean()"
   ]
  },
  {
   "cell_type": "code",
   "execution_count": 46,
   "metadata": {},
   "outputs": [
    {
     "name": "stdout",
     "output_type": "stream",
     "text": [
      "job-blue-collar购买率：6.9%\n",
      "job-technician购买率：10.7%\n",
      "job-management购买率：11.4%\n",
      "job-services购买率：8.200000000000001%\n",
      "job-retired购买率：25.3%\n",
      "job-admin.购买率：13.0%\n",
      "job-housemaid购买率：10.0%\n",
      "job-unemployed购买率：14.6%\n",
      "job-entrepreneur购买率：8.5%\n",
      "job-self-employed购买率：10.7%\n",
      "job-student购买率：31.0%\n",
      "marital-married购买率：10.2%\n",
      "marital-single购买率：14.000000000000002%\n",
      "marital-divorced购买率：10.4%\n",
      "education-Basic购买率：8.799999999999999%\n",
      "education-high.school购买率：11.200000000000001%\n",
      "education-university.degree购买率：13.700000000000001%\n",
      "education-professional.course购买率：11.4%\n",
      "education-illiterate购买率：19.7%\n",
      "default-1购买率：5.2%\n",
      "default-0购买率：12.4%\n",
      "housing-yes购买率：11.600000000000001%\n",
      "housing-no购买率：10.9%\n",
      "loan-no购买率：11.3%\n",
      "loan-yes购买率：11.0%\n",
      "contact-cellular购买率：14.7%\n",
      "contact-telephone购买率：5.3%\n",
      "month-aug购买率：10.5%\n",
      "month-nov购买率：10.100000000000001%\n",
      "month-jun购买率：10.6%\n",
      "month-apr购买率：20.4%\n",
      "month-jul购买率：9.0%\n",
      "month-may购买率：6.5%\n",
      "month-oct购买率：44.0%\n",
      "month-mar购买率：50.9%\n",
      "month-dec购买率：48.9%\n",
      "month-sep购买率：44.7%\n",
      "day_of_week-thu购买率：12.1%\n",
      "day_of_week-fri购买率：10.8%\n",
      "day_of_week-tue购买率：11.700000000000001%\n",
      "day_of_week-mon购买率：10.0%\n",
      "day_of_week-wed购买率：11.700000000000001%\n",
      "poutcome-nonexistent购买率：8.9%\n",
      "poutcome-success购买率：65.4%\n",
      "poutcome-failure购买率：13.900000000000002%\n"
     ]
    },
    {
     "data": {
      "image/png": "[encoded data removed]",
      "text/plain": [
       "<Figure size 1296x1926 with 10 Axes>"
      ]
     },
     "metadata": {
      "needs_background": "light"
     },
     "output_type": "display_data"
    }
   ],
   "source": [
    "fig = plt.figure(figsize=(18,26.75))\n",
    "plt.subplots_adjust(wspace=0.2,hspace=0.445)\n",
    "for i,col_name in enumerate(cat_vars):\n",
    "    ax = fig.add_subplot(5,2,(i+1))\n",
    "    data_tmp = pd.crosstab(data[col_name],data.y)\n",
    "    feature_values = data[col_name].unique()\n",
    "    bar_width = 0.25\n",
    "    for j,value in enumerate(feature_values):\n",
    "        y = list(data_tmp.loc[value])\n",
    "        print(f\"{col_name}-{value}购买率：{round(y[1]/(y[0]+y[1]),3)*100}%\")\n",
    "        if j==0:\n",
    "            ax.bar(j,y[0],bar_width,color='aqua',label='未购买')\n",
    "            ax.bar(j+bar_width,y[1],bar_width,color='navy',label='已购买')\n",
    "        else:\n",
    "            ax.bar(j,y[0],bar_width,color='aqua')\n",
    "            ax.bar(j+bar_width,y[1],bar_width,color='navy')\n",
    "    plt.title(f\"frequency for {col_name}\")\n",
    "    plt.xlabel(col_name)\n",
    "    plt.ylabel(\"frequency\")    \n",
    "    plt.xticks(ticks=range(0,len(feature_values)),labels=list(feature_values),rotation=25)"
   ]
  },
  {
   "cell_type": "code",
   "execution_count": 47,
   "metadata": {},
   "outputs": [
    {
     "data": {
      "text/plain": [
       "Basic                  12645\n",
       "university.degree      11955\n",
       "high.school             9726\n",
       "professional.course     5264\n",
       "illiterate               213\n",
       "Name: education, dtype: int64"
      ]
     },
     "execution_count": 47,
     "metadata": {},
     "output_type": "execute_result"
    }
   ],
   "source": [
    "data['education'].value_counts()"
   ]
  },
  {
   "cell_type": "code",
   "execution_count": 48,
   "metadata": {},
   "outputs": [
    {
     "data": {
      "image/png": "[encoded data removed]",
      "text/plain": [
       "<Figure size 576x288 with 1 Axes>"
      ]
     },
     "metadata": {
      "needs_background": "light"
     },
     "output_type": "display_data"
    },
    {
     "data": {
      "image/png": "[encoded data removed]",
      "text/plain": [
       "<Figure size 576x288 with 1 Axes>"
      ]
     },
     "metadata": {
      "needs_background": "light"
     },
     "output_type": "display_data"
    },
    {
     "data": {
      "image/png": "[encoded data removed]",
      "text/plain": [
       "<Figure size 576x288 with 1 Axes>"
      ]
     },
     "metadata": {
      "needs_background": "light"
     },
     "output_type": "display_data"
    },
    {
     "data": {
      "image/png": "[encoded data removed]",
      "text/plain": [
       "<Figure size 576x288 with 1 Axes>"
      ]
     },
     "metadata": {
      "needs_background": "light"
     },
     "output_type": "display_data"
    },
    {
     "data": {
      "image/png": "[encoded data removed]",
      "text/plain": [
       "<Figure size 576x288 with 1 Axes>"
      ]
     },
     "metadata": {
      "needs_background": "light"
     },
     "output_type": "display_data"
    },
    {
     "data": {
      "image/png": "[encoded data removed]",
      "text/plain": [
       "<Figure size 576x288 with 1 Axes>"
      ]
     },
     "metadata": {
      "needs_background": "light"
     },
     "output_type": "display_data"
    },
    {
     "data": {
      "image/png": "[encoded data removed]",
      "text/plain": [
       "<Figure size 576x288 with 1 Axes>"
      ]
     },
     "metadata": {
      "needs_background": "light"
     },
     "output_type": "display_data"
    },
    {
     "data": {
      "image/png": "[encoded data removed]",
      "text/plain": [
       "<Figure size 576x288 with 1 Axes>"
      ]
     },
     "metadata": {
      "needs_background": "light"
     },
     "output_type": "display_data"
    },
    {
     "data": {
      "image/png": "[encoded data removed]",
      "text/plain": [
       "<Figure size 576x288 with 1 Axes>"
      ]
     },
     "metadata": {
      "needs_background": "light"
     },
     "output_type": "display_data"
    },
    {
     "data": {
      "image/png": "[encoded data removed]",
      "text/plain": [
       "<Figure size 576x288 with 1 Axes>"
      ]
     },
     "metadata": {
      "needs_background": "light"
     },
     "output_type": "display_data"
    }
   ],
   "source": [
    "dfn = data[data['y']==0]\n",
    "dfy = data[data['y']==1]\n",
    "for col in cat_vars:\n",
    "    plt.figure(figsize=(8,4))\n",
    "    val_list = list(data[col].unique())\n",
    "    y_count = dfy[col].value_counts().to_dict()\n",
    "    n_count = dfn[col].value_counts().to_dict()\n",
    "    #get(k,0)为了防止k不存在而返回None,直接返回0\n",
    "    pct_list = [y_count.get(val,0)/dfy.shape[0]-n_count.get(val,0)/dfn.shape[0] for val in val_list] \n",
    "    sns.barplot(pct_list,val_list)\n",
    "    plt.title = col\n",
    "    plt.tight_layout()"
   ]
  },
  {
   "cell_type": "code",
   "execution_count": 49,
   "metadata": {},
   "outputs": [
    {
     "data": {
      "text/plain": [
       "<matplotlib.axes._subplots.AxesSubplot at 0x2635b272e48>"
      ]
     },
     "execution_count": 49,
     "metadata": {},
     "output_type": "execute_result"
    },
    {
     "data": {
      "image/png": "[encoded data removed]",
      "text/plain": [
       "<Figure size 432x288 with 1 Axes>"
      ]
     },
     "metadata": {
      "needs_background": "light"
     },
     "output_type": "display_data"
    }
   ],
   "source": [
    "data['duration'].hist(bins=80)"
   ]
  },
  {
   "cell_type": "markdown",
   "metadata": {},
   "source": [
    "### create dummy variables"
   ]
  },
  {
   "cell_type": "code",
   "execution_count": 50,
   "metadata": {},
   "outputs": [
    {
     "data": {
      "text/plain": [
       "cellular     25369\n",
       "telephone    14434\n",
       "Name: contact, dtype: int64"
      ]
     },
     "execution_count": 50,
     "metadata": {},
     "output_type": "execute_result"
    }
   ],
   "source": [
    "data['contact'].value_counts()"
   ]
  },
  {
   "cell_type": "code",
   "execution_count": 51,
   "metadata": {},
   "outputs": [
    {
     "data": {
      "text/plain": [
       "0        0\n",
       "1        0\n",
       "2        0\n",
       "3        0\n",
       "4        0\n",
       "        ..\n",
       "41183    1\n",
       "41184    0\n",
       "41185    1\n",
       "41186    1\n",
       "41187    0\n",
       "Name: loan, Length: 39803, dtype: int64"
      ]
     },
     "execution_count": 51,
     "metadata": {},
     "output_type": "execute_result"
    }
   ],
   "source": [
    "data['contact'].map({'cellular':0,\"telephone\":1})\n",
    "data['y'].map({'no':0,'yes':1})\n",
    "data['housing'].map({'no':0,'yes':1})\n",
    "data['loan'].map({'no':0,'yes':1})"
   ]
  },
  {
   "cell_type": "code",
   "execution_count": 52,
   "metadata": {},
   "outputs": [
    {
     "data": {
      "text/plain": [
       "Index(['age', 'job', 'marital', 'education', 'default', 'housing', 'loan',\n",
       "       'contact', 'month', 'day_of_week', 'duration', 'campaign', 'pdays',\n",
       "       'previous', 'poutcome', 'emp_var_rate', 'cons_price_idx',\n",
       "       'cons_conf_idx', 'euribor3m', 'nr_employed', 'y', 'job_admin.',\n",
       "       'job_blue-collar', 'job_entrepreneur', 'job_housemaid',\n",
       "       'job_management', 'job_retired', 'job_self-employed', 'job_services',\n",
       "       'job_student', 'job_technician', 'job_unemployed', 'marital_divorced',\n",
       "       'marital_married', 'marital_single', 'education_Basic',\n",
       "       'education_high.school', 'education_illiterate',\n",
       "       'education_professional.course', 'education_university.degree',\n",
       "       'default_0', 'default_1', 'housing_no', 'housing_yes', 'loan_no',\n",
       "       'loan_yes', 'contact_cellular', 'contact_telephone', 'month_apr',\n",
       "       'month_aug', 'month_dec', 'month_jul', 'month_jun', 'month_mar',\n",
       "       'month_may', 'month_nov', 'month_oct', 'month_sep', 'day_of_week_fri',\n",
       "       'day_of_week_mon', 'day_of_week_thu', 'day_of_week_tue',\n",
       "       'day_of_week_wed', 'poutcome_failure', 'poutcome_nonexistent',\n",
       "       'poutcome_success'],\n",
       "      dtype='object')"
      ]
     },
     "execution_count": 52,
     "metadata": {},
     "output_type": "execute_result"
    }
   ],
   "source": [
    "for var in cat_vars:     # execute ony one time\n",
    "    #cat_list = 'var'+'_'+var\n",
    "    cat_list = pd.get_dummies(data[var],prefix=var)\n",
    "    #print(cat_list)\n",
    "    data1 = data.join(cat_list)\n",
    "    data = data1\n",
    "data.columns"
   ]
  },
  {
   "cell_type": "code",
   "execution_count": 53,
   "metadata": {},
   "outputs": [
    {
     "data": {
      "text/plain": [
       "['age',\n",
       " 'duration',\n",
       " 'campaign',\n",
       " 'pdays',\n",
       " 'previous',\n",
       " 'emp_var_rate',\n",
       " 'cons_price_idx',\n",
       " 'cons_conf_idx',\n",
       " 'euribor3m',\n",
       " 'nr_employed',\n",
       " 'y',\n",
       " 'job_admin.',\n",
       " 'job_blue-collar',\n",
       " 'job_entrepreneur',\n",
       " 'job_housemaid',\n",
       " 'job_management',\n",
       " 'job_retired',\n",
       " 'job_self-employed',\n",
       " 'job_services',\n",
       " 'job_student',\n",
       " 'job_technician',\n",
       " 'job_unemployed',\n",
       " 'marital_divorced',\n",
       " 'marital_married',\n",
       " 'marital_single',\n",
       " 'education_Basic',\n",
       " 'education_high.school',\n",
       " 'education_illiterate',\n",
       " 'education_professional.course',\n",
       " 'education_university.degree',\n",
       " 'default_0',\n",
       " 'default_1',\n",
       " 'housing_no',\n",
       " 'housing_yes',\n",
       " 'loan_no',\n",
       " 'loan_yes',\n",
       " 'contact_cellular',\n",
       " 'contact_telephone',\n",
       " 'month_apr',\n",
       " 'month_aug',\n",
       " 'month_dec',\n",
       " 'month_jul',\n",
       " 'month_jun',\n",
       " 'month_mar',\n",
       " 'month_may',\n",
       " 'month_nov',\n",
       " 'month_oct',\n",
       " 'month_sep',\n",
       " 'day_of_week_fri',\n",
       " 'day_of_week_mon',\n",
       " 'day_of_week_thu',\n",
       " 'day_of_week_tue',\n",
       " 'day_of_week_wed',\n",
       " 'poutcome_failure',\n",
       " 'poutcome_nonexistent',\n",
       " 'poutcome_success']"
      ]
     },
     "execution_count": 53,
     "metadata": {},
     "output_type": "execute_result"
    }
   ],
   "source": [
    "data_vars = data.columns.values.tolist()\n",
    "to_keep=[i for i in data_vars if i not in cat_vars]\n",
    "to_keep     #重新设定dataFrame的列"
   ]
  },
  {
   "cell_type": "code",
   "execution_count": 54,
   "metadata": {},
   "outputs": [
    {
     "data": {
      "text/plain": [
       "array(['age', 'duration', 'campaign', 'pdays', 'previous', 'emp_var_rate',\n",
       "       'cons_price_idx', 'cons_conf_idx', 'euribor3m', 'nr_employed', 'y',\n",
       "       'job_admin.', 'job_blue-collar', 'job_entrepreneur',\n",
       "       'job_housemaid', 'job_management', 'job_retired',\n",
       "       'job_self-employed', 'job_services', 'job_student',\n",
       "       'job_technician', 'job_unemployed', 'marital_divorced',\n",
       "       'marital_married', 'marital_single', 'education_Basic',\n",
       "       'education_high.school', 'education_illiterate',\n",
       "       'education_professional.course', 'education_university.degree',\n",
       "       'default_0', 'default_1', 'housing_no', 'housing_yes', 'loan_no',\n",
       "       'loan_yes', 'contact_cellular', 'contact_telephone', 'month_apr',\n",
       "       'month_aug', 'month_dec', 'month_jul', 'month_jun', 'month_mar',\n",
       "       'month_may', 'month_nov', 'month_oct', 'month_sep',\n",
       "       'day_of_week_fri', 'day_of_week_mon', 'day_of_week_thu',\n",
       "       'day_of_week_tue', 'day_of_week_wed', 'poutcome_failure',\n",
       "       'poutcome_nonexistent', 'poutcome_success'], dtype=object)"
      ]
     },
     "execution_count": 54,
     "metadata": {},
     "output_type": "execute_result"
    }
   ],
   "source": [
    "data_final = data[to_keep]     #to_keep为新生成的所有feature\n",
    "data_final.columns.values     #类别变量都需要转成dummy_variables"
   ]
  },
  {
   "cell_type": "code",
   "execution_count": 55,
   "metadata": {},
   "outputs": [
    {
     "data": {
      "text/plain": [
       "['age',\n",
       " 'duration',\n",
       " 'campaign',\n",
       " 'pdays',\n",
       " 'previous',\n",
       " 'emp_var_rate',\n",
       " 'cons_price_idx',\n",
       " 'cons_conf_idx',\n",
       " 'euribor3m',\n",
       " 'nr_employed',\n",
       " 'job_admin.',\n",
       " 'job_blue-collar',\n",
       " 'job_entrepreneur',\n",
       " 'job_housemaid',\n",
       " 'job_management',\n",
       " 'job_retired',\n",
       " 'job_self-employed',\n",
       " 'job_services',\n",
       " 'job_student',\n",
       " 'job_technician',\n",
       " 'job_unemployed',\n",
       " 'marital_divorced',\n",
       " 'marital_married',\n",
       " 'marital_single',\n",
       " 'education_Basic',\n",
       " 'education_high.school',\n",
       " 'education_illiterate',\n",
       " 'education_professional.course',\n",
       " 'education_university.degree',\n",
       " 'default_0',\n",
       " 'default_1',\n",
       " 'housing_no',\n",
       " 'housing_yes',\n",
       " 'loan_no',\n",
       " 'loan_yes',\n",
       " 'contact_cellular',\n",
       " 'contact_telephone',\n",
       " 'month_apr',\n",
       " 'month_aug',\n",
       " 'month_dec',\n",
       " 'month_jul',\n",
       " 'month_jun',\n",
       " 'month_mar',\n",
       " 'month_may',\n",
       " 'month_nov',\n",
       " 'month_oct',\n",
       " 'month_sep',\n",
       " 'day_of_week_fri',\n",
       " 'day_of_week_mon',\n",
       " 'day_of_week_thu',\n",
       " 'day_of_week_tue',\n",
       " 'day_of_week_wed',\n",
       " 'poutcome_failure',\n",
       " 'poutcome_nonexistent',\n",
       " 'poutcome_success']"
      ]
     },
     "execution_count": 55,
     "metadata": {},
     "output_type": "execute_result"
    }
   ],
   "source": [
    "data_final_vars = data_final.columns.values.tolist()\n",
    "y=['y']\n",
    "x = [i for i in data_final_vars if i not in y]\n",
    "x"
   ]
  },
  {
   "cell_type": "code",
   "execution_count": 56,
   "metadata": {},
   "outputs": [
    {
     "data": {
      "text/plain": [
       "['age',\n",
       " 'duration',\n",
       " 'campaign',\n",
       " 'pdays',\n",
       " 'previous',\n",
       " 'emp_var_rate',\n",
       " 'cons_price_idx',\n",
       " 'cons_conf_idx',\n",
       " 'euribor3m',\n",
       " 'nr_employed',\n",
       " 'job_admin.',\n",
       " 'job_blue-collar',\n",
       " 'job_entrepreneur',\n",
       " 'job_housemaid',\n",
       " 'job_management',\n",
       " 'job_retired',\n",
       " 'job_self-employed',\n",
       " 'job_services',\n",
       " 'job_student',\n",
       " 'job_technician',\n",
       " 'job_unemployed',\n",
       " 'marital_divorced',\n",
       " 'marital_married',\n",
       " 'marital_single',\n",
       " 'education_Basic',\n",
       " 'education_high.school',\n",
       " 'education_illiterate',\n",
       " 'education_professional.course',\n",
       " 'education_university.degree',\n",
       " 'default_0',\n",
       " 'default_1',\n",
       " 'housing_no',\n",
       " 'housing_yes',\n",
       " 'loan_no',\n",
       " 'loan_yes',\n",
       " 'contact_cellular',\n",
       " 'contact_telephone',\n",
       " 'month_apr',\n",
       " 'month_aug',\n",
       " 'month_dec',\n",
       " 'month_jul',\n",
       " 'month_jun',\n",
       " 'month_mar',\n",
       " 'month_may',\n",
       " 'month_nov',\n",
       " 'month_oct',\n",
       " 'month_sep',\n",
       " 'day_of_week_fri',\n",
       " 'day_of_week_mon',\n",
       " 'day_of_week_thu',\n",
       " 'day_of_week_tue',\n",
       " 'day_of_week_wed',\n",
       " 'poutcome_failure',\n",
       " 'poutcome_nonexistent',\n",
       " 'poutcome_success']"
      ]
     },
     "execution_count": 56,
     "metadata": {},
     "output_type": "execute_result"
    }
   ],
   "source": [
    "x"
   ]
  },
  {
   "cell_type": "code",
   "execution_count": 57,
   "metadata": {},
   "outputs": [
    {
     "data": {
      "text/plain": [
       "55"
      ]
     },
     "execution_count": 57,
     "metadata": {},
     "output_type": "execute_result"
    }
   ],
   "source": [
    "len(x)"
   ]
  },
  {
   "cell_type": "markdown",
   "metadata": {},
   "source": [
    "### Feature selection"
   ]
  },
  {
   "cell_type": "code",
   "execution_count": 58,
   "metadata": {},
   "outputs": [],
   "source": [
    "from sklearn import datasets\n",
    "#recursive feature elimination 特征递归消除,来获得每一个自变量的重要程度,去除不重要的自变量,选择重要的自变量,找到对结果比较有影响的自变量\n",
    "from sklearn.feature_selection import RFE     #RFE解释如上\n",
    "from sklearn.linear_model import LogisticRegression"
   ]
  },
  {
   "cell_type": "code",
   "execution_count": 59,
   "metadata": {},
   "outputs": [
    {
     "data": {
      "text/html": [
       "<div>\n",
       "<style scoped>\n",
       "    .dataframe tbody tr th:only-of-type {\n",
       "        vertical-align: middle;\n",
       "    }\n",
       "\n",
       "    .dataframe tbody tr th {\n",
       "        vertical-align: top;\n",
       "    }\n",
       "\n",
       "    .dataframe thead th {\n",
       "        text-align: right;\n",
       "    }\n",
       "</style>\n",
       "<table border=\"1\" class=\"dataframe\">\n",
       "  <thead>\n",
       "    <tr style=\"text-align: right;\">\n",
       "      <th></th>\n",
       "      <th>age</th>\n",
       "      <th>duration</th>\n",
       "      <th>campaign</th>\n",
       "      <th>pdays</th>\n",
       "      <th>previous</th>\n",
       "      <th>emp_var_rate</th>\n",
       "      <th>cons_price_idx</th>\n",
       "      <th>cons_conf_idx</th>\n",
       "      <th>euribor3m</th>\n",
       "      <th>nr_employed</th>\n",
       "      <th>...</th>\n",
       "      <th>month_oct</th>\n",
       "      <th>month_sep</th>\n",
       "      <th>day_of_week_fri</th>\n",
       "      <th>day_of_week_mon</th>\n",
       "      <th>day_of_week_thu</th>\n",
       "      <th>day_of_week_tue</th>\n",
       "      <th>day_of_week_wed</th>\n",
       "      <th>poutcome_failure</th>\n",
       "      <th>poutcome_nonexistent</th>\n",
       "      <th>poutcome_success</th>\n",
       "    </tr>\n",
       "  </thead>\n",
       "  <tbody>\n",
       "    <tr>\n",
       "      <td>0</td>\n",
       "      <td>44</td>\n",
       "      <td>210</td>\n",
       "      <td>1</td>\n",
       "      <td>999</td>\n",
       "      <td>0</td>\n",
       "      <td>1.4</td>\n",
       "      <td>93.444</td>\n",
       "      <td>-36.1</td>\n",
       "      <td>4.963</td>\n",
       "      <td>5228.1</td>\n",
       "      <td>...</td>\n",
       "      <td>0</td>\n",
       "      <td>0</td>\n",
       "      <td>0</td>\n",
       "      <td>0</td>\n",
       "      <td>1</td>\n",
       "      <td>0</td>\n",
       "      <td>0</td>\n",
       "      <td>0</td>\n",
       "      <td>1</td>\n",
       "      <td>0</td>\n",
       "    </tr>\n",
       "    <tr>\n",
       "      <td>1</td>\n",
       "      <td>53</td>\n",
       "      <td>138</td>\n",
       "      <td>1</td>\n",
       "      <td>999</td>\n",
       "      <td>0</td>\n",
       "      <td>-0.1</td>\n",
       "      <td>93.200</td>\n",
       "      <td>-42.0</td>\n",
       "      <td>4.021</td>\n",
       "      <td>5195.8</td>\n",
       "      <td>...</td>\n",
       "      <td>0</td>\n",
       "      <td>0</td>\n",
       "      <td>1</td>\n",
       "      <td>0</td>\n",
       "      <td>0</td>\n",
       "      <td>0</td>\n",
       "      <td>0</td>\n",
       "      <td>0</td>\n",
       "      <td>1</td>\n",
       "      <td>0</td>\n",
       "    </tr>\n",
       "    <tr>\n",
       "      <td>2</td>\n",
       "      <td>28</td>\n",
       "      <td>339</td>\n",
       "      <td>3</td>\n",
       "      <td>6</td>\n",
       "      <td>2</td>\n",
       "      <td>-1.7</td>\n",
       "      <td>94.055</td>\n",
       "      <td>-39.8</td>\n",
       "      <td>0.729</td>\n",
       "      <td>4991.6</td>\n",
       "      <td>...</td>\n",
       "      <td>0</td>\n",
       "      <td>0</td>\n",
       "      <td>0</td>\n",
       "      <td>0</td>\n",
       "      <td>1</td>\n",
       "      <td>0</td>\n",
       "      <td>0</td>\n",
       "      <td>0</td>\n",
       "      <td>0</td>\n",
       "      <td>1</td>\n",
       "    </tr>\n",
       "    <tr>\n",
       "      <td>3</td>\n",
       "      <td>39</td>\n",
       "      <td>185</td>\n",
       "      <td>2</td>\n",
       "      <td>999</td>\n",
       "      <td>0</td>\n",
       "      <td>-1.8</td>\n",
       "      <td>93.075</td>\n",
       "      <td>-47.1</td>\n",
       "      <td>1.405</td>\n",
       "      <td>5099.1</td>\n",
       "      <td>...</td>\n",
       "      <td>0</td>\n",
       "      <td>0</td>\n",
       "      <td>1</td>\n",
       "      <td>0</td>\n",
       "      <td>0</td>\n",
       "      <td>0</td>\n",
       "      <td>0</td>\n",
       "      <td>0</td>\n",
       "      <td>1</td>\n",
       "      <td>0</td>\n",
       "    </tr>\n",
       "    <tr>\n",
       "      <td>4</td>\n",
       "      <td>55</td>\n",
       "      <td>137</td>\n",
       "      <td>1</td>\n",
       "      <td>3</td>\n",
       "      <td>1</td>\n",
       "      <td>-2.9</td>\n",
       "      <td>92.201</td>\n",
       "      <td>-31.4</td>\n",
       "      <td>0.869</td>\n",
       "      <td>5076.2</td>\n",
       "      <td>...</td>\n",
       "      <td>0</td>\n",
       "      <td>0</td>\n",
       "      <td>1</td>\n",
       "      <td>0</td>\n",
       "      <td>0</td>\n",
       "      <td>0</td>\n",
       "      <td>0</td>\n",
       "      <td>0</td>\n",
       "      <td>0</td>\n",
       "      <td>1</td>\n",
       "    </tr>\n",
       "    <tr>\n",
       "      <td>...</td>\n",
       "      <td>...</td>\n",
       "      <td>...</td>\n",
       "      <td>...</td>\n",
       "      <td>...</td>\n",
       "      <td>...</td>\n",
       "      <td>...</td>\n",
       "      <td>...</td>\n",
       "      <td>...</td>\n",
       "      <td>...</td>\n",
       "      <td>...</td>\n",
       "      <td>...</td>\n",
       "      <td>...</td>\n",
       "      <td>...</td>\n",
       "      <td>...</td>\n",
       "      <td>...</td>\n",
       "      <td>...</td>\n",
       "      <td>...</td>\n",
       "      <td>...</td>\n",
       "      <td>...</td>\n",
       "      <td>...</td>\n",
       "      <td>...</td>\n",
       "    </tr>\n",
       "    <tr>\n",
       "      <td>41183</td>\n",
       "      <td>59</td>\n",
       "      <td>222</td>\n",
       "      <td>1</td>\n",
       "      <td>999</td>\n",
       "      <td>0</td>\n",
       "      <td>1.4</td>\n",
       "      <td>94.465</td>\n",
       "      <td>-41.8</td>\n",
       "      <td>4.866</td>\n",
       "      <td>5228.1</td>\n",
       "      <td>...</td>\n",
       "      <td>0</td>\n",
       "      <td>0</td>\n",
       "      <td>0</td>\n",
       "      <td>0</td>\n",
       "      <td>1</td>\n",
       "      <td>0</td>\n",
       "      <td>0</td>\n",
       "      <td>0</td>\n",
       "      <td>1</td>\n",
       "      <td>0</td>\n",
       "    </tr>\n",
       "    <tr>\n",
       "      <td>41184</td>\n",
       "      <td>31</td>\n",
       "      <td>196</td>\n",
       "      <td>2</td>\n",
       "      <td>999</td>\n",
       "      <td>0</td>\n",
       "      <td>1.1</td>\n",
       "      <td>93.994</td>\n",
       "      <td>-36.4</td>\n",
       "      <td>4.860</td>\n",
       "      <td>5191.0</td>\n",
       "      <td>...</td>\n",
       "      <td>0</td>\n",
       "      <td>0</td>\n",
       "      <td>0</td>\n",
       "      <td>0</td>\n",
       "      <td>1</td>\n",
       "      <td>0</td>\n",
       "      <td>0</td>\n",
       "      <td>0</td>\n",
       "      <td>1</td>\n",
       "      <td>0</td>\n",
       "    </tr>\n",
       "    <tr>\n",
       "      <td>41185</td>\n",
       "      <td>42</td>\n",
       "      <td>62</td>\n",
       "      <td>3</td>\n",
       "      <td>999</td>\n",
       "      <td>0</td>\n",
       "      <td>1.1</td>\n",
       "      <td>93.994</td>\n",
       "      <td>-36.4</td>\n",
       "      <td>4.857</td>\n",
       "      <td>5191.0</td>\n",
       "      <td>...</td>\n",
       "      <td>0</td>\n",
       "      <td>0</td>\n",
       "      <td>0</td>\n",
       "      <td>0</td>\n",
       "      <td>0</td>\n",
       "      <td>0</td>\n",
       "      <td>1</td>\n",
       "      <td>0</td>\n",
       "      <td>1</td>\n",
       "      <td>0</td>\n",
       "    </tr>\n",
       "    <tr>\n",
       "      <td>41186</td>\n",
       "      <td>48</td>\n",
       "      <td>200</td>\n",
       "      <td>2</td>\n",
       "      <td>999</td>\n",
       "      <td>0</td>\n",
       "      <td>-3.4</td>\n",
       "      <td>92.431</td>\n",
       "      <td>-26.9</td>\n",
       "      <td>0.742</td>\n",
       "      <td>5017.5</td>\n",
       "      <td>...</td>\n",
       "      <td>1</td>\n",
       "      <td>0</td>\n",
       "      <td>0</td>\n",
       "      <td>0</td>\n",
       "      <td>0</td>\n",
       "      <td>1</td>\n",
       "      <td>0</td>\n",
       "      <td>0</td>\n",
       "      <td>1</td>\n",
       "      <td>0</td>\n",
       "    </tr>\n",
       "    <tr>\n",
       "      <td>41187</td>\n",
       "      <td>25</td>\n",
       "      <td>112</td>\n",
       "      <td>4</td>\n",
       "      <td>999</td>\n",
       "      <td>0</td>\n",
       "      <td>1.1</td>\n",
       "      <td>93.994</td>\n",
       "      <td>-36.4</td>\n",
       "      <td>4.859</td>\n",
       "      <td>5191.0</td>\n",
       "      <td>...</td>\n",
       "      <td>0</td>\n",
       "      <td>0</td>\n",
       "      <td>1</td>\n",
       "      <td>0</td>\n",
       "      <td>0</td>\n",
       "      <td>0</td>\n",
       "      <td>0</td>\n",
       "      <td>0</td>\n",
       "      <td>1</td>\n",
       "      <td>0</td>\n",
       "    </tr>\n",
       "  </tbody>\n",
       "</table>\n",
       "<p>39803 rows × 56 columns</p>\n",
       "</div>"
      ],
      "text/plain": [
       "       age  duration  campaign  pdays  previous  emp_var_rate  cons_price_idx  \\\n",
       "0       44       210         1    999         0           1.4          93.444   \n",
       "1       53       138         1    999         0          -0.1          93.200   \n",
       "2       28       339         3      6         2          -1.7          94.055   \n",
       "3       39       185         2    999         0          -1.8          93.075   \n",
       "4       55       137         1      3         1          -2.9          92.201   \n",
       "...    ...       ...       ...    ...       ...           ...             ...   \n",
       "41183   59       222         1    999         0           1.4          94.465   \n",
       "41184   31       196         2    999         0           1.1          93.994   \n",
       "41185   42        62         3    999         0           1.1          93.994   \n",
       "41186   48       200         2    999         0          -3.4          92.431   \n",
       "41187   25       112         4    999         0           1.1          93.994   \n",
       "\n",
       "       cons_conf_idx  euribor3m  nr_employed  ...  month_oct  month_sep  \\\n",
       "0              -36.1      4.963       5228.1  ...          0          0   \n",
       "1              -42.0      4.021       5195.8  ...          0          0   \n",
       "2              -39.8      0.729       4991.6  ...          0          0   \n",
       "3              -47.1      1.405       5099.1  ...          0          0   \n",
       "4              -31.4      0.869       5076.2  ...          0          0   \n",
       "...              ...        ...          ...  ...        ...        ...   \n",
       "41183          -41.8      4.866       5228.1  ...          0          0   \n",
       "41184          -36.4      4.860       5191.0  ...          0          0   \n",
       "41185          -36.4      4.857       5191.0  ...          0          0   \n",
       "41186          -26.9      0.742       5017.5  ...          1          0   \n",
       "41187          -36.4      4.859       5191.0  ...          0          0   \n",
       "\n",
       "       day_of_week_fri  day_of_week_mon  day_of_week_thu  day_of_week_tue  \\\n",
       "0                    0                0                1                0   \n",
       "1                    1                0                0                0   \n",
       "2                    0                0                1                0   \n",
       "3                    1                0                0                0   \n",
       "4                    1                0                0                0   \n",
       "...                ...              ...              ...              ...   \n",
       "41183                0                0                1                0   \n",
       "41184                0                0                1                0   \n",
       "41185                0                0                0                0   \n",
       "41186                0                0                0                1   \n",
       "41187                1                0                0                0   \n",
       "\n",
       "       day_of_week_wed  poutcome_failure  poutcome_nonexistent  \\\n",
       "0                    0                 0                     1   \n",
       "1                    0                 0                     1   \n",
       "2                    0                 0                     0   \n",
       "3                    0                 0                     1   \n",
       "4                    0                 0                     0   \n",
       "...                ...               ...                   ...   \n",
       "41183                0                 0                     1   \n",
       "41184                0                 0                     1   \n",
       "41185                1                 0                     1   \n",
       "41186                0                 0                     1   \n",
       "41187                0                 0                     1   \n",
       "\n",
       "       poutcome_success  \n",
       "0                     0  \n",
       "1                     0  \n",
       "2                     1  \n",
       "3                     0  \n",
       "4                     1  \n",
       "...                 ...  \n",
       "41183                 0  \n",
       "41184                 0  \n",
       "41185                 0  \n",
       "41186                 0  \n",
       "41187                 0  \n",
       "\n",
       "[39803 rows x 56 columns]"
      ]
     },
     "execution_count": 59,
     "metadata": {},
     "output_type": "execute_result"
    }
   ],
   "source": [
    "data_final"
   ]
  },
  {
   "cell_type": "code",
   "execution_count": 60,
   "metadata": {},
   "outputs": [
    {
     "name": "stderr",
     "output_type": "stream",
     "text": [
      "E:\\Anaconda3\\anaconda\\lib\\site-packages\\sklearn\\utils\\validation.py:724: DataConversionWarning: A column-vector y was passed when a 1d array was expected. Please change the shape of y to (n_samples, ), for example using ravel().\n",
      "  y = column_or_1d(y, warn=True)\n",
      "E:\\Anaconda3\\anaconda\\lib\\site-packages\\sklearn\\linear_model\\logistic.py:432: FutureWarning: Default solver will be changed to 'lbfgs' in 0.22. Specify a solver to silence this warning.\n",
      "  FutureWarning)\n",
      "E:\\Anaconda3\\anaconda\\lib\\site-packages\\sklearn\\linear_model\\logistic.py:432: FutureWarning: Default solver will be changed to 'lbfgs' in 0.22. Specify a solver to silence this warning.\n",
      "  FutureWarning)\n",
      "E:\\Anaconda3\\anaconda\\lib\\site-packages\\sklearn\\linear_model\\logistic.py:432: FutureWarning: Default solver will be changed to 'lbfgs' in 0.22. Specify a solver to silence this warning.\n",
      "  FutureWarning)\n",
      "E:\\Anaconda3\\anaconda\\lib\\site-packages\\sklearn\\linear_model\\logistic.py:432: FutureWarning: Default solver will be changed to 'lbfgs' in 0.22. Specify a solver to silence this warning.\n",
      "  FutureWarning)\n",
      "E:\\Anaconda3\\anaconda\\lib\\site-packages\\sklearn\\linear_model\\logistic.py:432: FutureWarning: Default solver will be changed to 'lbfgs' in 0.22. Specify a solver to silence this warning.\n",
      "  FutureWarning)\n",
      "E:\\Anaconda3\\anaconda\\lib\\site-packages\\sklearn\\linear_model\\logistic.py:432: FutureWarning: Default solver will be changed to 'lbfgs' in 0.22. Specify a solver to silence this warning.\n",
      "  FutureWarning)\n",
      "E:\\Anaconda3\\anaconda\\lib\\site-packages\\sklearn\\linear_model\\logistic.py:432: FutureWarning: Default solver will be changed to 'lbfgs' in 0.22. Specify a solver to silence this warning.\n",
      "  FutureWarning)\n",
      "E:\\Anaconda3\\anaconda\\lib\\site-packages\\sklearn\\linear_model\\logistic.py:432: FutureWarning: Default solver will be changed to 'lbfgs' in 0.22. Specify a solver to silence this warning.\n",
      "  FutureWarning)\n",
      "E:\\Anaconda3\\anaconda\\lib\\site-packages\\sklearn\\linear_model\\logistic.py:432: FutureWarning: Default solver will be changed to 'lbfgs' in 0.22. Specify a solver to silence this warning.\n",
      "  FutureWarning)\n",
      "E:\\Anaconda3\\anaconda\\lib\\site-packages\\sklearn\\linear_model\\logistic.py:432: FutureWarning: Default solver will be changed to 'lbfgs' in 0.22. Specify a solver to silence this warning.\n",
      "  FutureWarning)\n",
      "E:\\Anaconda3\\anaconda\\lib\\site-packages\\sklearn\\linear_model\\logistic.py:432: FutureWarning: Default solver will be changed to 'lbfgs' in 0.22. Specify a solver to silence this warning.\n",
      "  FutureWarning)\n",
      "E:\\Anaconda3\\anaconda\\lib\\site-packages\\sklearn\\linear_model\\logistic.py:432: FutureWarning: Default solver will be changed to 'lbfgs' in 0.22. Specify a solver to silence this warning.\n",
      "  FutureWarning)\n",
      "E:\\Anaconda3\\anaconda\\lib\\site-packages\\sklearn\\linear_model\\logistic.py:432: FutureWarning: Default solver will be changed to 'lbfgs' in 0.22. Specify a solver to silence this warning.\n",
      "  FutureWarning)\n",
      "E:\\Anaconda3\\anaconda\\lib\\site-packages\\sklearn\\linear_model\\logistic.py:432: FutureWarning: Default solver will be changed to 'lbfgs' in 0.22. Specify a solver to silence this warning.\n",
      "  FutureWarning)\n",
      "E:\\Anaconda3\\anaconda\\lib\\site-packages\\sklearn\\linear_model\\logistic.py:432: FutureWarning: Default solver will be changed to 'lbfgs' in 0.22. Specify a solver to silence this warning.\n",
      "  FutureWarning)\n",
      "E:\\Anaconda3\\anaconda\\lib\\site-packages\\sklearn\\linear_model\\logistic.py:432: FutureWarning: Default solver will be changed to 'lbfgs' in 0.22. Specify a solver to silence this warning.\n",
      "  FutureWarning)\n",
      "E:\\Anaconda3\\anaconda\\lib\\site-packages\\sklearn\\linear_model\\logistic.py:432: FutureWarning: Default solver will be changed to 'lbfgs' in 0.22. Specify a solver to silence this warning.\n",
      "  FutureWarning)\n",
      "E:\\Anaconda3\\anaconda\\lib\\site-packages\\sklearn\\linear_model\\logistic.py:432: FutureWarning: Default solver will be changed to 'lbfgs' in 0.22. Specify a solver to silence this warning.\n",
      "  FutureWarning)\n",
      "E:\\Anaconda3\\anaconda\\lib\\site-packages\\sklearn\\linear_model\\logistic.py:432: FutureWarning: Default solver will be changed to 'lbfgs' in 0.22. Specify a solver to silence this warning.\n",
      "  FutureWarning)\n",
      "E:\\Anaconda3\\anaconda\\lib\\site-packages\\sklearn\\linear_model\\logistic.py:432: FutureWarning: Default solver will be changed to 'lbfgs' in 0.22. Specify a solver to silence this warning.\n",
      "  FutureWarning)\n",
      "E:\\Anaconda3\\anaconda\\lib\\site-packages\\sklearn\\linear_model\\logistic.py:432: FutureWarning: Default solver will be changed to 'lbfgs' in 0.22. Specify a solver to silence this warning.\n",
      "  FutureWarning)\n",
      "E:\\Anaconda3\\anaconda\\lib\\site-packages\\sklearn\\linear_model\\logistic.py:432: FutureWarning: Default solver will be changed to 'lbfgs' in 0.22. Specify a solver to silence this warning.\n",
      "  FutureWarning)\n",
      "E:\\Anaconda3\\anaconda\\lib\\site-packages\\sklearn\\linear_model\\logistic.py:432: FutureWarning: Default solver will be changed to 'lbfgs' in 0.22. Specify a solver to silence this warning.\n",
      "  FutureWarning)\n",
      "E:\\Anaconda3\\anaconda\\lib\\site-packages\\sklearn\\linear_model\\logistic.py:432: FutureWarning: Default solver will be changed to 'lbfgs' in 0.22. Specify a solver to silence this warning.\n",
      "  FutureWarning)\n",
      "E:\\Anaconda3\\anaconda\\lib\\site-packages\\sklearn\\linear_model\\logistic.py:432: FutureWarning: Default solver will be changed to 'lbfgs' in 0.22. Specify a solver to silence this warning.\n",
      "  FutureWarning)\n",
      "E:\\Anaconda3\\anaconda\\lib\\site-packages\\sklearn\\linear_model\\logistic.py:432: FutureWarning: Default solver will be changed to 'lbfgs' in 0.22. Specify a solver to silence this warning.\n",
      "  FutureWarning)\n",
      "E:\\Anaconda3\\anaconda\\lib\\site-packages\\sklearn\\linear_model\\logistic.py:432: FutureWarning: Default solver will be changed to 'lbfgs' in 0.22. Specify a solver to silence this warning.\n",
      "  FutureWarning)\n",
      "E:\\Anaconda3\\anaconda\\lib\\site-packages\\sklearn\\linear_model\\logistic.py:432: FutureWarning: Default solver will be changed to 'lbfgs' in 0.22. Specify a solver to silence this warning.\n",
      "  FutureWarning)\n",
      "E:\\Anaconda3\\anaconda\\lib\\site-packages\\sklearn\\linear_model\\logistic.py:432: FutureWarning: Default solver will be changed to 'lbfgs' in 0.22. Specify a solver to silence this warning.\n",
      "  FutureWarning)\n",
      "E:\\Anaconda3\\anaconda\\lib\\site-packages\\sklearn\\linear_model\\logistic.py:432: FutureWarning: Default solver will be changed to 'lbfgs' in 0.22. Specify a solver to silence this warning.\n",
      "  FutureWarning)\n",
      "E:\\Anaconda3\\anaconda\\lib\\site-packages\\sklearn\\linear_model\\logistic.py:432: FutureWarning: Default solver will be changed to 'lbfgs' in 0.22. Specify a solver to silence this warning.\n",
      "  FutureWarning)\n",
      "E:\\Anaconda3\\anaconda\\lib\\site-packages\\sklearn\\linear_model\\logistic.py:432: FutureWarning: Default solver will be changed to 'lbfgs' in 0.22. Specify a solver to silence this warning.\n",
      "  FutureWarning)\n",
      "E:\\Anaconda3\\anaconda\\lib\\site-packages\\sklearn\\linear_model\\logistic.py:432: FutureWarning: Default solver will be changed to 'lbfgs' in 0.22. Specify a solver to silence this warning.\n",
      "  FutureWarning)\n",
      "E:\\Anaconda3\\anaconda\\lib\\site-packages\\sklearn\\linear_model\\logistic.py:432: FutureWarning: Default solver will be changed to 'lbfgs' in 0.22. Specify a solver to silence this warning.\n",
      "  FutureWarning)\n",
      "E:\\Anaconda3\\anaconda\\lib\\site-packages\\sklearn\\linear_model\\logistic.py:432: FutureWarning: Default solver will be changed to 'lbfgs' in 0.22. Specify a solver to silence this warning.\n",
      "  FutureWarning)\n",
      "E:\\Anaconda3\\anaconda\\lib\\site-packages\\sklearn\\linear_model\\logistic.py:432: FutureWarning: Default solver will be changed to 'lbfgs' in 0.22. Specify a solver to silence this warning.\n",
      "  FutureWarning)\n",
      "E:\\Anaconda3\\anaconda\\lib\\site-packages\\sklearn\\linear_model\\logistic.py:432: FutureWarning: Default solver will be changed to 'lbfgs' in 0.22. Specify a solver to silence this warning.\n",
      "  FutureWarning)\n",
      "E:\\Anaconda3\\anaconda\\lib\\site-packages\\sklearn\\linear_model\\logistic.py:432: FutureWarning: Default solver will be changed to 'lbfgs' in 0.22. Specify a solver to silence this warning.\n",
      "  FutureWarning)\n",
      "E:\\Anaconda3\\anaconda\\lib\\site-packages\\sklearn\\linear_model\\logistic.py:432: FutureWarning: Default solver will be changed to 'lbfgs' in 0.22. Specify a solver to silence this warning.\n",
      "  FutureWarning)\n",
      "E:\\Anaconda3\\anaconda\\lib\\site-packages\\sklearn\\linear_model\\logistic.py:432: FutureWarning: Default solver will be changed to 'lbfgs' in 0.22. Specify a solver to silence this warning.\n",
      "  FutureWarning)\n",
      "E:\\Anaconda3\\anaconda\\lib\\site-packages\\sklearn\\linear_model\\logistic.py:432: FutureWarning: Default solver will be changed to 'lbfgs' in 0.22. Specify a solver to silence this warning.\n",
      "  FutureWarning)\n"
     ]
    },
    {
     "name": "stdout",
     "output_type": "stream",
     "text": [
      "[False False False False  True False False False  True False False False\n",
      " False False False  True False False  True False False False False False\n",
      " False False  True False False False  True False False False False False\n",
      " False  True  True False False False  True  True  True False False False\n",
      "  True False False False  True False  True]\n",
      "[36 35 16 38  1 20 24 21  1 29 15  3  9 42 40  1 39  5  1 26 25 14 31 18\n",
      " 23 22  1 17 11  8  1 41 32 27 34 12  2  1  1  4 19 10  1  1  1 33 30 13\n",
      "  1 37 28  7  1  6  1]\n"
     ]
    },
    {
     "name": "stderr",
     "output_type": "stream",
     "text": [
      "E:\\Anaconda3\\anaconda\\lib\\site-packages\\sklearn\\linear_model\\logistic.py:432: FutureWarning: Default solver will be changed to 'lbfgs' in 0.22. Specify a solver to silence this warning.\n",
      "  FutureWarning)\n"
     ]
    }
   ],
   "source": [
    "logreg = LogisticRegression()\n",
    "rfe = RFE(logreg,14)     #第二个参数控制模型（特征）数量,后面True对应的变量就是要选择的,后面还会对字段的重要程度排序\n",
    "rfe = rfe.fit(data_final[x],data_final[y])\n",
    "print(rfe.support_)\n",
    "print(rfe.ranking_)"
   ]
  },
  {
   "cell_type": "code",
   "execution_count": 62,
   "metadata": {},
   "outputs": [
    {
     "data": {
      "text/plain": [
       "['previous',\n",
       " 'euribor3m',\n",
       " 'job_retired',\n",
       " 'job_student',\n",
       " 'education_illiterate',\n",
       " 'default_1',\n",
       " 'month_apr',\n",
       " 'month_aug',\n",
       " 'month_mar',\n",
       " 'month_may',\n",
       " 'month_nov',\n",
       " 'day_of_week_mon',\n",
       " 'poutcome_failure',\n",
       " 'poutcome_success']"
      ]
     },
     "execution_count": 62,
     "metadata": {},
     "output_type": "execute_result"
    }
   ],
   "source": [
    "ind_list = [i for i,res_out in enumerate(list(rfe.support_)) if res_out == True]\n",
    "x_sub = [x[i] for i in ind_list]\n",
    "x_sub"
   ]
  },
  {
   "cell_type": "code",
   "execution_count": 63,
   "metadata": {},
   "outputs": [],
   "source": [
    "x=data_final[x_sub]\n",
    "y=data_final['y']"
   ]
  },
  {
   "cell_type": "markdown",
   "metadata": {},
   "source": [
    "### Implementing the model"
   ]
  },
  {
   "cell_type": "code",
   "execution_count": 64,
   "metadata": {},
   "outputs": [],
   "source": [
    "import statsmodels.api as sm "
   ]
  },
  {
   "cell_type": "code",
   "execution_count": 65,
   "metadata": {},
   "outputs": [
    {
     "data": {
      "text/html": [
       "<div>\n",
       "<style scoped>\n",
       "    .dataframe tbody tr th:only-of-type {\n",
       "        vertical-align: middle;\n",
       "    }\n",
       "\n",
       "    .dataframe tbody tr th {\n",
       "        vertical-align: top;\n",
       "    }\n",
       "\n",
       "    .dataframe thead th {\n",
       "        text-align: right;\n",
       "    }\n",
       "</style>\n",
       "<table border=\"1\" class=\"dataframe\">\n",
       "  <thead>\n",
       "    <tr style=\"text-align: right;\">\n",
       "      <th></th>\n",
       "      <th>previous</th>\n",
       "      <th>euribor3m</th>\n",
       "      <th>job_retired</th>\n",
       "      <th>job_student</th>\n",
       "      <th>education_illiterate</th>\n",
       "      <th>default_1</th>\n",
       "      <th>month_apr</th>\n",
       "      <th>month_aug</th>\n",
       "      <th>month_mar</th>\n",
       "      <th>month_may</th>\n",
       "      <th>month_nov</th>\n",
       "      <th>day_of_week_mon</th>\n",
       "      <th>poutcome_failure</th>\n",
       "      <th>poutcome_success</th>\n",
       "    </tr>\n",
       "  </thead>\n",
       "  <tbody>\n",
       "    <tr>\n",
       "      <td>0</td>\n",
       "      <td>0</td>\n",
       "      <td>4.963</td>\n",
       "      <td>0</td>\n",
       "      <td>0</td>\n",
       "      <td>0</td>\n",
       "      <td>1</td>\n",
       "      <td>0</td>\n",
       "      <td>1</td>\n",
       "      <td>0</td>\n",
       "      <td>0</td>\n",
       "      <td>0</td>\n",
       "      <td>0</td>\n",
       "      <td>0</td>\n",
       "      <td>0</td>\n",
       "    </tr>\n",
       "    <tr>\n",
       "      <td>1</td>\n",
       "      <td>0</td>\n",
       "      <td>4.021</td>\n",
       "      <td>0</td>\n",
       "      <td>0</td>\n",
       "      <td>0</td>\n",
       "      <td>0</td>\n",
       "      <td>0</td>\n",
       "      <td>0</td>\n",
       "      <td>0</td>\n",
       "      <td>0</td>\n",
       "      <td>1</td>\n",
       "      <td>0</td>\n",
       "      <td>0</td>\n",
       "      <td>0</td>\n",
       "    </tr>\n",
       "    <tr>\n",
       "      <td>2</td>\n",
       "      <td>2</td>\n",
       "      <td>0.729</td>\n",
       "      <td>0</td>\n",
       "      <td>0</td>\n",
       "      <td>0</td>\n",
       "      <td>0</td>\n",
       "      <td>0</td>\n",
       "      <td>0</td>\n",
       "      <td>0</td>\n",
       "      <td>0</td>\n",
       "      <td>0</td>\n",
       "      <td>0</td>\n",
       "      <td>0</td>\n",
       "      <td>1</td>\n",
       "    </tr>\n",
       "    <tr>\n",
       "      <td>3</td>\n",
       "      <td>0</td>\n",
       "      <td>1.405</td>\n",
       "      <td>0</td>\n",
       "      <td>0</td>\n",
       "      <td>0</td>\n",
       "      <td>0</td>\n",
       "      <td>1</td>\n",
       "      <td>0</td>\n",
       "      <td>0</td>\n",
       "      <td>0</td>\n",
       "      <td>0</td>\n",
       "      <td>0</td>\n",
       "      <td>0</td>\n",
       "      <td>0</td>\n",
       "    </tr>\n",
       "    <tr>\n",
       "      <td>4</td>\n",
       "      <td>1</td>\n",
       "      <td>0.869</td>\n",
       "      <td>1</td>\n",
       "      <td>0</td>\n",
       "      <td>0</td>\n",
       "      <td>0</td>\n",
       "      <td>0</td>\n",
       "      <td>1</td>\n",
       "      <td>0</td>\n",
       "      <td>0</td>\n",
       "      <td>0</td>\n",
       "      <td>0</td>\n",
       "      <td>0</td>\n",
       "      <td>1</td>\n",
       "    </tr>\n",
       "    <tr>\n",
       "      <td>...</td>\n",
       "      <td>...</td>\n",
       "      <td>...</td>\n",
       "      <td>...</td>\n",
       "      <td>...</td>\n",
       "      <td>...</td>\n",
       "      <td>...</td>\n",
       "      <td>...</td>\n",
       "      <td>...</td>\n",
       "      <td>...</td>\n",
       "      <td>...</td>\n",
       "      <td>...</td>\n",
       "      <td>...</td>\n",
       "      <td>...</td>\n",
       "      <td>...</td>\n",
       "    </tr>\n",
       "    <tr>\n",
       "      <td>41183</td>\n",
       "      <td>0</td>\n",
       "      <td>4.866</td>\n",
       "      <td>1</td>\n",
       "      <td>0</td>\n",
       "      <td>0</td>\n",
       "      <td>1</td>\n",
       "      <td>0</td>\n",
       "      <td>0</td>\n",
       "      <td>0</td>\n",
       "      <td>0</td>\n",
       "      <td>0</td>\n",
       "      <td>0</td>\n",
       "      <td>0</td>\n",
       "      <td>0</td>\n",
       "    </tr>\n",
       "    <tr>\n",
       "      <td>41184</td>\n",
       "      <td>0</td>\n",
       "      <td>4.860</td>\n",
       "      <td>0</td>\n",
       "      <td>0</td>\n",
       "      <td>0</td>\n",
       "      <td>1</td>\n",
       "      <td>0</td>\n",
       "      <td>0</td>\n",
       "      <td>0</td>\n",
       "      <td>1</td>\n",
       "      <td>0</td>\n",
       "      <td>0</td>\n",
       "      <td>0</td>\n",
       "      <td>0</td>\n",
       "    </tr>\n",
       "    <tr>\n",
       "      <td>41185</td>\n",
       "      <td>0</td>\n",
       "      <td>4.857</td>\n",
       "      <td>0</td>\n",
       "      <td>0</td>\n",
       "      <td>0</td>\n",
       "      <td>0</td>\n",
       "      <td>0</td>\n",
       "      <td>0</td>\n",
       "      <td>0</td>\n",
       "      <td>1</td>\n",
       "      <td>0</td>\n",
       "      <td>0</td>\n",
       "      <td>0</td>\n",
       "      <td>0</td>\n",
       "    </tr>\n",
       "    <tr>\n",
       "      <td>41186</td>\n",
       "      <td>0</td>\n",
       "      <td>0.742</td>\n",
       "      <td>0</td>\n",
       "      <td>0</td>\n",
       "      <td>0</td>\n",
       "      <td>0</td>\n",
       "      <td>0</td>\n",
       "      <td>0</td>\n",
       "      <td>0</td>\n",
       "      <td>0</td>\n",
       "      <td>0</td>\n",
       "      <td>0</td>\n",
       "      <td>0</td>\n",
       "      <td>0</td>\n",
       "    </tr>\n",
       "    <tr>\n",
       "      <td>41187</td>\n",
       "      <td>0</td>\n",
       "      <td>4.859</td>\n",
       "      <td>0</td>\n",
       "      <td>1</td>\n",
       "      <td>0</td>\n",
       "      <td>0</td>\n",
       "      <td>0</td>\n",
       "      <td>0</td>\n",
       "      <td>0</td>\n",
       "      <td>1</td>\n",
       "      <td>0</td>\n",
       "      <td>0</td>\n",
       "      <td>0</td>\n",
       "      <td>0</td>\n",
       "    </tr>\n",
       "  </tbody>\n",
       "</table>\n",
       "<p>39803 rows × 14 columns</p>\n",
       "</div>"
      ],
      "text/plain": [
       "       previous  euribor3m  job_retired  job_student  education_illiterate  \\\n",
       "0             0      4.963            0            0                     0   \n",
       "1             0      4.021            0            0                     0   \n",
       "2             2      0.729            0            0                     0   \n",
       "3             0      1.405            0            0                     0   \n",
       "4             1      0.869            1            0                     0   \n",
       "...         ...        ...          ...          ...                   ...   \n",
       "41183         0      4.866            1            0                     0   \n",
       "41184         0      4.860            0            0                     0   \n",
       "41185         0      4.857            0            0                     0   \n",
       "41186         0      0.742            0            0                     0   \n",
       "41187         0      4.859            0            1                     0   \n",
       "\n",
       "       default_1  month_apr  month_aug  month_mar  month_may  month_nov  \\\n",
       "0              1          0          1          0          0          0   \n",
       "1              0          0          0          0          0          1   \n",
       "2              0          0          0          0          0          0   \n",
       "3              0          1          0          0          0          0   \n",
       "4              0          0          1          0          0          0   \n",
       "...          ...        ...        ...        ...        ...        ...   \n",
       "41183          1          0          0          0          0          0   \n",
       "41184          1          0          0          0          1          0   \n",
       "41185          0          0          0          0          1          0   \n",
       "41186          0          0          0          0          0          0   \n",
       "41187          0          0          0          0          1          0   \n",
       "\n",
       "       day_of_week_mon  poutcome_failure  poutcome_success  \n",
       "0                    0                 0                 0  \n",
       "1                    0                 0                 0  \n",
       "2                    0                 0                 1  \n",
       "3                    0                 0                 0  \n",
       "4                    0                 0                 1  \n",
       "...                ...               ...               ...  \n",
       "41183                0                 0                 0  \n",
       "41184                0                 0                 0  \n",
       "41185                0                 0                 0  \n",
       "41186                0                 0                 0  \n",
       "41187                0                 0                 0  \n",
       "\n",
       "[39803 rows x 14 columns]"
      ]
     },
     "execution_count": 65,
     "metadata": {},
     "output_type": "execute_result"
    }
   ],
   "source": [
    "x"
   ]
  },
  {
   "cell_type": "code",
   "execution_count": 66,
   "metadata": {},
   "outputs": [
    {
     "name": "stdout",
     "output_type": "stream",
     "text": [
      "Optimization terminated successfully.\n",
      "         Current function value: 0.282112\n",
      "         Iterations 7\n",
      "                           Results: Logit\n",
      "=====================================================================\n",
      "Model:                Logit             Pseudo R-squared:  0.199     \n",
      "Dependent Variable:   y                 AIC:               22485.7813\n",
      "Date:                 2020-08-19 20:09  BIC:               22606.0651\n",
      "No. Observations:     39803             Log-Likelihood:    -11229.   \n",
      "Df Model:             13                LL-Null:           -14018.   \n",
      "Df Residuals:         39789             LLR p-value:       0.0000    \n",
      "Converged:            1.0000            Scale:             1.0000    \n",
      "No. Iterations:       7.0000                                         \n",
      "---------------------------------------------------------------------\n",
      "                      Coef.  Std.Err.    z     P>|z|   [0.025  0.975]\n",
      "---------------------------------------------------------------------\n",
      "previous              0.2038   0.0520   3.9230 0.0001  0.1020  0.3056\n",
      "euribor3m            -0.5314   0.0076 -70.2213 0.0000 -0.5463 -0.5166\n",
      "job_retired           0.3322   0.0681   4.8781 0.0000  0.1987  0.4657\n",
      "job_student           0.2678   0.0868   3.0872 0.0020  0.0978  0.4379\n",
      "education_illiterate  0.3579   0.2022   1.7702 0.0767 -0.0384  0.7542\n",
      "default_1            -0.2881   0.0635  -4.5373 0.0000 -0.4125 -0.1636\n",
      "month_apr            -0.5770   0.0533 -10.8175 0.0000 -0.6816 -0.4725\n",
      "month_aug            -0.2396   0.0539  -4.4489 0.0000 -0.3452 -0.1341\n",
      "month_mar             0.5692   0.0934   6.0919 0.0000  0.3861  0.7524\n",
      "month_may            -1.2095   0.0411 -29.4292 0.0000 -1.2901 -1.1290\n",
      "month_nov            -0.4024   0.0629  -6.3928 0.0000 -0.5257 -0.2790\n",
      "day_of_week_mon      -0.2840   0.0443  -6.4085 0.0000 -0.3709 -0.1972\n",
      "poutcome_failure     -0.6849   0.0845  -8.1039 0.0000 -0.8505 -0.5192\n",
      "poutcome_success      1.2059   0.1008  11.9674 0.0000  1.0084  1.4034\n",
      "=====================================================================\n",
      "\n"
     ]
    }
   ],
   "source": [
    "logit_model = sm.Logit(y,x)\n",
    "result = logit_model.fit()\n",
    "print(result.summary2())"
   ]
  },
  {
   "cell_type": "markdown",
   "metadata": {},
   "source": [
    "### logistic Regression Model Fitting"
   ]
  },
  {
   "cell_type": "code",
   "execution_count": 67,
   "metadata": {},
   "outputs": [],
   "source": [
    "x_train,x_test,y_train,y_test = train_test_split(x,y,test_size=0.25,random_state=5)"
   ]
  },
  {
   "cell_type": "code",
   "execution_count": 68,
   "metadata": {},
   "outputs": [],
   "source": [
    "from sklearn.linear_model import LogisticRegression\n",
    "from sklearn import metrics"
   ]
  },
  {
   "cell_type": "code",
   "execution_count": 69,
   "metadata": {},
   "outputs": [
    {
     "name": "stderr",
     "output_type": "stream",
     "text": [
      "E:\\Anaconda3\\anaconda\\lib\\site-packages\\sklearn\\linear_model\\logistic.py:432: FutureWarning: Default solver will be changed to 'lbfgs' in 0.22. Specify a solver to silence this warning.\n",
      "  FutureWarning)\n"
     ]
    },
    {
     "data": {
      "text/plain": [
       "LogisticRegression(C=1.0, class_weight=None, dual=False, fit_intercept=True,\n",
       "                   intercept_scaling=1, l1_ratio=None, max_iter=100,\n",
       "                   multi_class='warn', n_jobs=None, penalty='l2',\n",
       "                   random_state=None, solver='warn', tol=0.0001, verbose=0,\n",
       "                   warm_start=False)"
      ]
     },
     "execution_count": 69,
     "metadata": {},
     "output_type": "execute_result"
    }
   ],
   "source": [
    "logreg = LogisticRegression()\n",
    "logreg.fit(x_train,y_train)"
   ]
  },
  {
   "cell_type": "code",
   "execution_count": 70,
   "metadata": {},
   "outputs": [
    {
     "data": {
      "text/plain": [
       "0    9653\n",
       "1     298\n",
       "dtype: int64"
      ]
     },
     "execution_count": 70,
     "metadata": {},
     "output_type": "execute_result"
    }
   ],
   "source": [
    "y_pred = logreg.predict(x_test)\n",
    "ana_result = pd.Series(y_pred.ravel())\n",
    "ana_result.value_counts()"
   ]
  },
  {
   "cell_type": "code",
   "execution_count": 71,
   "metadata": {},
   "outputs": [
    {
     "name": "stdout",
     "output_type": "stream",
     "text": [
      "Accuracy of logistic regression classifier on test set:0.9002110340669279\n"
     ]
    }
   ],
   "source": [
    "print(f\"Accuracy of logistic regression classifier on test set:{logreg.score(x_test,y_test)}\")"
   ]
  },
  {
   "cell_type": "markdown",
   "metadata": {},
   "source": [
    "### Cross validation"
   ]
  },
  {
   "cell_type": "code",
   "execution_count": 72,
   "metadata": {},
   "outputs": [],
   "source": [
    "from sklearn import model_selection\n",
    "from sklearn.model_selection import cross_val_score"
   ]
  },
  {
   "cell_type": "code",
   "execution_count": 73,
   "metadata": {},
   "outputs": [
    {
     "name": "stderr",
     "output_type": "stream",
     "text": [
      "E:\\Anaconda3\\anaconda\\lib\\site-packages\\sklearn\\linear_model\\logistic.py:432: FutureWarning: Default solver will be changed to 'lbfgs' in 0.22. Specify a solver to silence this warning.\n",
      "  FutureWarning)\n",
      "E:\\Anaconda3\\anaconda\\lib\\site-packages\\sklearn\\linear_model\\logistic.py:432: FutureWarning: Default solver will be changed to 'lbfgs' in 0.22. Specify a solver to silence this warning.\n",
      "  FutureWarning)\n",
      "E:\\Anaconda3\\anaconda\\lib\\site-packages\\sklearn\\linear_model\\logistic.py:432: FutureWarning: Default solver will be changed to 'lbfgs' in 0.22. Specify a solver to silence this warning.\n",
      "  FutureWarning)\n",
      "E:\\Anaconda3\\anaconda\\lib\\site-packages\\sklearn\\linear_model\\logistic.py:432: FutureWarning: Default solver will be changed to 'lbfgs' in 0.22. Specify a solver to silence this warning.\n",
      "  FutureWarning)\n",
      "E:\\Anaconda3\\anaconda\\lib\\site-packages\\sklearn\\linear_model\\logistic.py:432: FutureWarning: Default solver will be changed to 'lbfgs' in 0.22. Specify a solver to silence this warning.\n",
      "  FutureWarning)\n",
      "E:\\Anaconda3\\anaconda\\lib\\site-packages\\sklearn\\linear_model\\logistic.py:432: FutureWarning: Default solver will be changed to 'lbfgs' in 0.22. Specify a solver to silence this warning.\n",
      "  FutureWarning)\n",
      "E:\\Anaconda3\\anaconda\\lib\\site-packages\\sklearn\\linear_model\\logistic.py:432: FutureWarning: Default solver will be changed to 'lbfgs' in 0.22. Specify a solver to silence this warning.\n",
      "  FutureWarning)\n",
      "E:\\Anaconda3\\anaconda\\lib\\site-packages\\sklearn\\linear_model\\logistic.py:432: FutureWarning: Default solver will be changed to 'lbfgs' in 0.22. Specify a solver to silence this warning.\n",
      "  FutureWarning)\n",
      "E:\\Anaconda3\\anaconda\\lib\\site-packages\\sklearn\\linear_model\\logistic.py:432: FutureWarning: Default solver will be changed to 'lbfgs' in 0.22. Specify a solver to silence this warning.\n",
      "  FutureWarning)\n"
     ]
    },
    {
     "name": "stdout",
     "output_type": "stream",
     "text": [
      "10 groups cross validation average accuracy:0.8993703054230743\n"
     ]
    },
    {
     "name": "stderr",
     "output_type": "stream",
     "text": [
      "E:\\Anaconda3\\anaconda\\lib\\site-packages\\sklearn\\linear_model\\logistic.py:432: FutureWarning: Default solver will be changed to 'lbfgs' in 0.22. Specify a solver to silence this warning.\n",
      "  FutureWarning)\n"
     ]
    }
   ],
   "source": [
    "kfold = model_selection.KFold(n_splits=10,random_state=5)\n",
    "modelCV = LogisticRegression()\n",
    "scoring = 'accuracy'\n",
    "results = model_selection.cross_val_score(modelCV,x_train,y_train,cv=kfold,scoring=scoring)\n",
    "print(f\"10 groups cross validation average accuracy:{results.mean()}\")"
   ]
  },
  {
   "cell_type": "markdown",
   "metadata": {},
   "source": [
    "### Confusion Matrix"
   ]
  },
  {
   "cell_type": "code",
   "execution_count": 74,
   "metadata": {},
   "outputs": [
    {
     "data": {
      "text/plain": [
       "array([[8754,   94],\n",
       "       [ 899,  204]], dtype=int64)"
      ]
     },
     "execution_count": 74,
     "metadata": {},
     "output_type": "execute_result"
    }
   ],
   "source": [
    "from sklearn.metrics import confusion_matrix\n",
    "confusion_matrix = confusion_matrix(y_test,y_pred)\n",
    "confusion_matrix"
   ]
  },
  {
   "cell_type": "code",
   "execution_count": 75,
   "metadata": {},
   "outputs": [
    {
     "name": "stdout",
     "output_type": "stream",
     "text": [
      "              precision    recall  f1-score   support\n",
      "\n",
      "           0       0.91      0.99      0.95      8848\n",
      "           1       0.68      0.18      0.29      1103\n",
      "\n",
      "    accuracy                           0.90      9951\n",
      "   macro avg       0.80      0.59      0.62      9951\n",
      "weighted avg       0.88      0.90      0.87      9951\n",
      "\n"
     ]
    }
   ],
   "source": [
    "from sklearn.metrics import classification_report\n",
    "print(classification_report(y_test,y_pred))"
   ]
  },
  {
   "cell_type": "markdown",
   "metadata": {},
   "source": [
    "### ROC curve from sklearn import metrics"
   ]
  },
  {
   "cell_type": "code",
   "execution_count": 76,
   "metadata": {},
   "outputs": [],
   "source": [
    "from sklearn.metrics import roc_curve\n",
    "from sklearn.metrics import roc_auc_score"
   ]
  },
  {
   "cell_type": "code",
   "execution_count": 77,
   "metadata": {},
   "outputs": [
    {
     "name": "stdout",
     "output_type": "stream",
     "text": [
      "fpr:[0.00000000e+00 0.00000000e+00 1.13019892e-04 1.13019892e-04\n",
      " 2.26039783e-04 2.26039783e-04 3.39059675e-04 3.39059675e-04\n",
      " 6.78119349e-04 6.78119349e-04 9.04159132e-04 9.04159132e-04\n",
      " 1.01717902e-03 1.01717902e-03 1.13019892e-03 1.13019892e-03\n",
      " 1.35623870e-03 1.35623870e-03 1.46925859e-03 1.46925859e-03\n",
      " 1.46925859e-03 1.69529837e-03 1.69529837e-03 1.92133816e-03\n",
      " 1.92133816e-03 2.03435805e-03 2.03435805e-03 2.14737794e-03\n",
      " 2.14737794e-03 2.26039783e-03 2.26039783e-03 2.26039783e-03\n",
      " 2.26039783e-03 2.26039783e-03 2.26039783e-03 2.37341772e-03\n",
      " 2.37341772e-03 2.48643761e-03 2.48643761e-03 2.48643761e-03\n",
      " 2.71247740e-03 2.93851718e-03 2.93851718e-03 3.16455696e-03\n",
      " 3.27757685e-03 3.27757685e-03 3.39059675e-03 3.50361664e-03\n",
      " 3.50361664e-03 3.61663653e-03 3.72965642e-03 3.72965642e-03\n",
      " 3.72965642e-03 3.72965642e-03 3.84267631e-03 3.84267631e-03\n",
      " 3.84267631e-03 3.84267631e-03 3.84267631e-03 3.95569620e-03\n",
      " 3.95569620e-03 4.06871609e-03 4.06871609e-03 4.18173599e-03\n",
      " 4.18173599e-03 4.29475588e-03 4.29475588e-03 4.40777577e-03\n",
      " 4.40777577e-03 4.52079566e-03 4.74683544e-03 4.74683544e-03\n",
      " 4.85985533e-03 4.85985533e-03 4.85985533e-03 4.85985533e-03\n",
      " 5.19891501e-03 5.42495479e-03 5.42495479e-03 5.53797468e-03\n",
      " 5.53797468e-03 5.53797468e-03 5.53797468e-03 5.87703436e-03\n",
      " 5.87703436e-03 5.99005425e-03 5.99005425e-03 6.10307414e-03\n",
      " 6.32911392e-03 6.66817360e-03 6.66817360e-03 6.89421338e-03\n",
      " 6.89421338e-03 6.89421338e-03 6.89421338e-03 7.00723327e-03\n",
      " 7.12025316e-03 7.34629295e-03 7.34629295e-03 7.57233273e-03\n",
      " 7.57233273e-03 7.68535262e-03 7.68535262e-03 7.79837251e-03\n",
      " 7.79837251e-03 7.79837251e-03 7.91139241e-03 7.91139241e-03\n",
      " 8.47649186e-03 8.47649186e-03 8.70253165e-03 8.70253165e-03\n",
      " 8.92857143e-03 9.26763110e-03 9.26763110e-03 9.38065099e-03\n",
      " 9.49367089e-03 9.83273056e-03 9.94575045e-03 9.94575045e-03\n",
      " 1.02848101e-02 1.02848101e-02 1.03978300e-02 1.03978300e-02\n",
      " 1.05108499e-02 1.05108499e-02 1.06238698e-02 1.06238698e-02\n",
      " 1.08499096e-02 1.08499096e-02 1.09629295e-02 1.09629295e-02\n",
      " 1.10759494e-02 1.11889693e-02 1.15280289e-02 1.19801085e-02\n",
      " 1.19801085e-02 1.20931284e-02 1.22061483e-02 1.26582278e-02\n",
      " 1.26582278e-02 1.27712477e-02 1.29972875e-02 1.29972875e-02\n",
      " 1.32233273e-02 1.36754069e-02 1.36754069e-02 1.37884268e-02\n",
      " 1.37884268e-02 1.37884268e-02 1.37884268e-02 1.41274864e-02\n",
      " 1.45795660e-02 1.45795660e-02 1.46925859e-02 1.46925859e-02\n",
      " 1.49186257e-02 1.49186257e-02 1.52576854e-02 1.52576854e-02\n",
      " 1.54837251e-02 1.54837251e-02 1.57097649e-02 1.58227848e-02\n",
      " 1.58227848e-02 1.61618445e-02 1.62748644e-02 1.62748644e-02\n",
      " 1.62748644e-02 1.65009042e-02 1.66139241e-02 1.67269439e-02\n",
      " 1.68399638e-02 1.70660036e-02 1.72920434e-02 1.74050633e-02\n",
      " 1.74050633e-02 1.76311031e-02 1.77441230e-02 1.79701627e-02\n",
      " 1.81962025e-02 1.84222423e-02 1.85352622e-02 1.91003617e-02\n",
      " 1.93264014e-02 1.95524412e-02 1.96654611e-02 1.96654611e-02\n",
      " 1.98915009e-02 2.02305606e-02 2.02305606e-02 2.02305606e-02\n",
      " 2.03435805e-02 2.04566004e-02 2.04566004e-02 2.04566004e-02\n",
      " 2.06826401e-02 2.06826401e-02 2.10216998e-02 2.13607595e-02\n",
      " 2.13607595e-02 2.14737794e-02 2.14737794e-02 2.16998192e-02\n",
      " 2.19258590e-02 2.21518987e-02 2.23779385e-02 2.28300181e-02\n",
      " 2.30560579e-02 2.32820976e-02 2.33951175e-02 2.33951175e-02\n",
      " 2.35081374e-02 2.37341772e-02 2.38471971e-02 2.39602170e-02\n",
      " 2.42992767e-02 2.47513562e-02 2.48643761e-02 2.48643761e-02\n",
      " 2.48643761e-02 2.48643761e-02 2.49773960e-02 2.49773960e-02\n",
      " 2.50904159e-02 2.52034358e-02 2.53164557e-02 2.53164557e-02\n",
      " 2.55424955e-02 2.55424955e-02 2.56555154e-02 2.56555154e-02\n",
      " 2.57685353e-02 2.57685353e-02 2.62206148e-02 2.63336347e-02\n",
      " 2.64466546e-02 2.66726944e-02 2.70117541e-02 2.71247740e-02\n",
      " 2.76898734e-02 2.85940325e-02 2.89330922e-02 2.91591320e-02\n",
      " 2.94981917e-02 2.94981917e-02 2.98372514e-02 2.99502712e-02\n",
      " 3.01763110e-02 3.01763110e-02 3.02893309e-02 3.02893309e-02\n",
      " 3.04023508e-02 3.05153707e-02 3.06283906e-02 3.06283906e-02\n",
      " 3.09674503e-02 3.14195298e-02 3.16455696e-02 3.17585895e-02\n",
      " 3.17585895e-02 3.18716094e-02 3.19846293e-02 3.19846293e-02\n",
      " 3.20976492e-02 3.22106691e-02 3.26627486e-02 3.26627486e-02\n",
      " 3.28887884e-02 3.31148282e-02 3.32278481e-02 3.36799277e-02\n",
      " 3.36799277e-02 3.37929476e-02 3.37929476e-02 3.43580470e-02\n",
      " 3.43580470e-02 3.45840868e-02 3.50361664e-02 3.50361664e-02\n",
      " 3.51491863e-02 3.51491863e-02 3.52622061e-02 3.54882459e-02\n",
      " 3.57142857e-02 3.59403255e-02 3.60533454e-02 3.60533454e-02\n",
      " 3.62793852e-02 3.62793852e-02 3.62793852e-02 3.63924051e-02\n",
      " 3.67314647e-02 3.67314647e-02 3.69575045e-02 3.69575045e-02\n",
      " 3.71835443e-02 3.74095841e-02 3.76356239e-02 3.77486438e-02\n",
      " 3.80877034e-02 3.82007233e-02 3.83137432e-02 3.83137432e-02\n",
      " 3.84267631e-02 3.84267631e-02 3.85397830e-02 3.85397830e-02\n",
      " 3.89918626e-02 3.89918626e-02 3.92179024e-02 3.92179024e-02\n",
      " 3.94439421e-02 3.96699819e-02 3.96699819e-02 3.97830018e-02\n",
      " 3.97830018e-02 4.00090416e-02 4.01220615e-02 4.03481013e-02\n",
      " 4.14783002e-02 4.15913201e-02 4.32866184e-02 4.48688969e-02\n",
      " 4.49819168e-02 4.57730561e-02 4.58860759e-02 4.61121157e-02\n",
      " 4.61121157e-02 4.62251356e-02 4.62251356e-02 4.63381555e-02\n",
      " 4.65641953e-02 4.65641953e-02 4.66772152e-02 4.66772152e-02\n",
      " 4.69032550e-02 4.70162749e-02 4.72423146e-02 4.73553345e-02\n",
      " 4.76943942e-02 4.76943942e-02 4.81464738e-02 4.81464738e-02\n",
      " 4.84855335e-02 4.85985533e-02 4.95027125e-02 4.97287523e-02\n",
      " 4.98417722e-02 5.02938517e-02 5.05198915e-02 5.05198915e-02\n",
      " 5.11980108e-02 5.13110307e-02 5.14240506e-02 5.25542495e-02\n",
      " 5.27802893e-02 5.31193490e-02 5.33453888e-02 5.33453888e-02\n",
      " 5.33453888e-02 5.40235081e-02 5.41365280e-02 5.43625678e-02\n",
      " 5.45886076e-02 5.48146474e-02 5.51537071e-02 5.51537071e-02\n",
      " 5.52667269e-02 5.54927667e-02 5.56057866e-02 5.56057866e-02\n",
      " 5.58318264e-02 5.59448463e-02 5.59448463e-02 5.62839060e-02\n",
      " 5.65099458e-02 5.67359855e-02 5.67359855e-02 5.68490054e-02\n",
      " 5.70750452e-02 5.70750452e-02 5.71880651e-02 5.71880651e-02\n",
      " 5.75271248e-02 5.75271248e-02 5.77531646e-02 5.78661844e-02\n",
      " 5.80922242e-02 5.82052441e-02 5.82052441e-02 5.83182640e-02\n",
      " 5.85443038e-02 5.88833635e-02 5.89963834e-02 5.89963834e-02\n",
      " 5.91094033e-02 5.93354430e-02 5.94484629e-02 5.96745027e-02\n",
      " 5.99005425e-02 5.99005425e-02 6.00135624e-02 6.05786618e-02\n",
      " 6.05786618e-02 6.06916817e-02 6.10307414e-02 6.11437613e-02\n",
      " 6.11437613e-02 6.12567812e-02 6.12567812e-02 6.13698011e-02\n",
      " 6.13698011e-02 6.14828210e-02 6.15958409e-02 6.15958409e-02\n",
      " 6.17088608e-02 6.18218807e-02 6.18218807e-02 6.20479204e-02\n",
      " 6.21609403e-02 6.21609403e-02 6.23869801e-02 6.23869801e-02\n",
      " 6.26130199e-02 6.26130199e-02 6.27260398e-02 6.28390597e-02\n",
      " 6.30650995e-02 6.31781193e-02 6.32911392e-02 6.32911392e-02\n",
      " 6.35171790e-02 6.37432188e-02 6.39692586e-02 6.39692586e-02\n",
      " 6.39692586e-02 6.40822785e-02 6.41952984e-02 6.45343580e-02\n",
      " 6.46473779e-02 6.46473779e-02 6.47603978e-02 6.47603978e-02\n",
      " 6.49864376e-02 6.53254973e-02 6.55515371e-02 6.57775769e-02\n",
      " 6.57775769e-02 6.58905967e-02 6.60036166e-02 6.64556962e-02\n",
      " 6.67947559e-02 6.67947559e-02 6.69077758e-02 6.71338156e-02\n",
      " 6.72468354e-02 6.74728752e-02 6.76989150e-02 6.76989150e-02\n",
      " 6.78119349e-02 6.79249548e-02 6.79249548e-02 6.87160940e-02\n",
      " 6.89421338e-02 6.91681736e-02 7.02983725e-02 7.05244123e-02\n",
      " 7.06374322e-02 7.08634720e-02 7.08634720e-02 7.10895118e-02\n",
      " 7.12025316e-02 7.14285714e-02 7.15415913e-02 7.18806510e-02\n",
      " 7.19936709e-02 7.19936709e-02 7.24457505e-02 7.24457505e-02\n",
      " 7.25587703e-02 7.25587703e-02 7.26717902e-02 7.26717902e-02\n",
      " 7.27848101e-02 7.27848101e-02 7.28978300e-02 7.30108499e-02\n",
      " 7.34629295e-02 7.34629295e-02 7.36889693e-02 7.36889693e-02\n",
      " 7.38019892e-02 7.38019892e-02 7.39150090e-02 7.41410488e-02\n",
      " 7.42540687e-02 7.44801085e-02 7.47061483e-02 7.48191682e-02\n",
      " 7.50452080e-02 7.52712477e-02 7.53842676e-02 7.56103074e-02\n",
      " 7.56103074e-02 7.57233273e-02 7.57233273e-02 7.60623870e-02\n",
      " 7.60623870e-02 7.62884268e-02 7.67405063e-02 7.69665461e-02\n",
      " 7.71925859e-02 7.71925859e-02 7.73056058e-02 7.74186257e-02\n",
      " 7.74186257e-02 7.75316456e-02 7.75316456e-02 7.77576854e-02\n",
      " 7.77576854e-02 7.79837251e-02 8.10352622e-02 8.12613020e-02\n",
      " 8.13743219e-02 8.16003617e-02 8.95117541e-02 8.96247740e-02\n",
      " 9.31283906e-02 9.32414105e-02 9.32414105e-02 9.42585895e-02\n",
      " 9.43716094e-02 9.53887884e-02 9.56148282e-02 9.57278481e-02\n",
      " 9.67450271e-02 9.76491863e-02 9.87793852e-02 9.95705244e-02\n",
      " 1.00248644e-01 1.00926763e-01 1.00926763e-01 1.01604882e-01\n",
      " 1.01604882e-01 1.01717902e-01 1.01943942e-01 1.02396022e-01\n",
      " 1.02622061e-01 1.02735081e-01 1.02735081e-01 1.02961121e-01\n",
      " 1.03187161e-01 1.03300181e-01 1.03752260e-01 1.03978300e-01\n",
      " 1.03978300e-01 1.04091320e-01 1.04317360e-01 1.04430380e-01\n",
      " 1.04430380e-01 1.04656420e-01 1.04656420e-01 1.05334539e-01\n",
      " 1.05560579e-01 1.05673599e-01 1.06351718e-01 1.06351718e-01\n",
      " 1.06464738e-01 1.06690778e-01 1.06803797e-01 1.06916817e-01\n",
      " 1.06916817e-01 1.07029837e-01 1.07142857e-01 1.07255877e-01\n",
      " 1.07255877e-01 1.07368897e-01 1.07594937e-01 1.07820976e-01\n",
      " 1.07820976e-01 1.08047016e-01 1.13811031e-01 1.14037071e-01\n",
      " 1.14263110e-01 1.15167269e-01 1.16071429e-01 1.16184448e-01\n",
      " 1.16523508e-01 1.16636528e-01 1.16862568e-01 1.17201627e-01\n",
      " 1.17427667e-01 1.17540687e-01 1.17540687e-01 1.17879747e-01\n",
      " 1.17879747e-01 1.18670886e-01 1.18783906e-01 1.21496383e-01\n",
      " 1.23530741e-01 1.23982821e-01 1.24434901e-01 1.25000000e-01\n",
      " 1.25678119e-01 1.26130199e-01 1.26469259e-01 1.26582278e-01\n",
      " 1.26695298e-01 1.26695298e-01 1.27147378e-01 1.27260398e-01\n",
      " 1.27712477e-01 1.37545208e-01 1.38110307e-01 1.48734177e-01\n",
      " 1.48960217e-01 1.48960217e-01 1.50768535e-01 1.57662749e-01\n",
      " 1.57775769e-01 1.63426763e-01 1.63539783e-01 1.70094937e-01\n",
      " 1.78119349e-01 1.78232369e-01 1.85352622e-01 1.85352622e-01\n",
      " 1.91568716e-01 1.91681736e-01 1.91681736e-01 1.93603074e-01\n",
      " 1.93603074e-01 1.93829114e-01 1.93829114e-01 1.94055154e-01\n",
      " 1.94055154e-01 1.94394213e-01 1.94507233e-01 1.94620253e-01\n",
      " 1.94620253e-01 1.94733273e-01 1.98010850e-01 1.98462929e-01\n",
      " 1.98801989e-01 1.99367089e-01 1.99819168e-01 1.99932188e-01\n",
      " 2.00271248e-01 2.00723327e-01 2.00836347e-01 2.00836347e-01\n",
      " 2.01062387e-01 2.09086799e-01 2.09199819e-01 2.09425859e-01\n",
      " 2.09877939e-01 2.11573237e-01 2.12251356e-01 2.12477396e-01\n",
      " 2.12929476e-01 2.13268535e-01 2.20501808e-01 2.20727848e-01\n",
      " 2.21632007e-01 2.22536166e-01 2.25248644e-01 2.26830922e-01\n",
      " 2.27283002e-01 2.27396022e-01 2.27509042e-01 2.28187161e-01\n",
      " 2.29091320e-01 2.30447559e-01 2.31464738e-01 2.32481917e-01\n",
      " 2.32707957e-01 2.32820976e-01 2.33725136e-01 2.34855335e-01\n",
      " 2.36663653e-01 2.36889693e-01 2.37567812e-01 2.37793852e-01\n",
      " 2.37906872e-01 2.38245931e-01 2.38698011e-01 2.38811031e-01\n",
      " 2.39376130e-01 2.39376130e-01 2.39489150e-01 2.42879747e-01\n",
      " 2.43331826e-01 2.47287523e-01 2.47513562e-01 2.52034358e-01\n",
      " 2.57007233e-01 2.57120253e-01 2.60849910e-01 2.63901447e-01\n",
      " 2.66500904e-01 2.68648282e-01 2.68874322e-01 2.69665461e-01\n",
      " 2.70004521e-01 2.70795660e-01 2.71021700e-01 2.71360759e-01\n",
      " 2.71586799e-01 2.71699819e-01 2.72151899e-01 2.85940325e-01\n",
      " 2.86618445e-01 2.86731465e-01 2.86957505e-01 3.02328210e-01\n",
      " 3.02554250e-01 3.02780289e-01 3.03571429e-01 3.18716094e-01\n",
      " 3.19168174e-01 3.19281193e-01 3.19507233e-01 3.19620253e-01\n",
      " 3.19733273e-01 3.32391501e-01 3.32617541e-01 3.33069620e-01\n",
      " 3.33182640e-01 3.35103978e-01 3.35216998e-01 3.35216998e-01\n",
      " 3.35443038e-01 3.35556058e-01 3.35782098e-01 3.35895118e-01\n",
      " 3.36573237e-01 3.36799277e-01 3.37477396e-01 3.37816456e-01\n",
      " 3.37816456e-01 3.49683544e-01 3.56916817e-01 3.57142857e-01\n",
      " 3.57594937e-01 3.57707957e-01 3.57820976e-01 3.57820976e-01\n",
      " 3.58386076e-01 3.58499096e-01 3.60081374e-01 3.60420434e-01\n",
      " 3.72174503e-01 3.83815552e-01 3.99751356e-01 4.29475588e-01\n",
      " 4.60895118e-01 4.85081374e-01 4.85985533e-01 4.92992767e-01\n",
      " 5.05877034e-01 5.07459313e-01 5.10284810e-01 5.10397830e-01\n",
      " 5.10962929e-01 5.10962929e-01 5.11754069e-01 5.12432188e-01\n",
      " 5.13449367e-01 5.14014467e-01 5.14353526e-01 5.14918626e-01\n",
      " 5.15370705e-01 5.15483725e-01 5.15709765e-01 5.16161844e-01\n",
      " 5.16500904e-01 5.16613924e-01 5.17292043e-01 5.17518083e-01\n",
      " 5.18535262e-01 5.18761302e-01 5.18987342e-01 5.19891501e-01\n",
      " 5.20004521e-01 5.20117541e-01 5.32662749e-01 5.33792948e-01\n",
      " 5.41252260e-01 5.61256781e-01 5.84538879e-01 5.95614828e-01\n",
      " 6.06916817e-01 6.12228752e-01 6.21722423e-01 6.22852622e-01\n",
      " 6.23078662e-01 6.29859855e-01 6.33928571e-01 6.35962929e-01\n",
      " 6.37093128e-01 6.37206148e-01 6.59358047e-01 6.65122061e-01\n",
      " 6.79475588e-01 6.82527125e-01 6.82640145e-01 6.82753165e-01\n",
      " 6.82979204e-01 6.86482821e-01 6.87613020e-01 6.87726040e-01\n",
      " 6.90551537e-01 6.94055154e-01 6.99141049e-01 7.08521700e-01\n",
      " 7.18128391e-01 7.23892405e-01 7.26265823e-01 7.28413201e-01\n",
      " 7.28639241e-01 7.31464738e-01 7.34968354e-01 7.35533454e-01\n",
      " 7.35759494e-01 7.42540687e-01 7.52486438e-01 7.55537975e-01\n",
      " 7.56442134e-01 7.57120253e-01 7.60397830e-01 7.63901447e-01\n",
      " 7.66048825e-01 7.68648282e-01 7.70004521e-01 7.72264919e-01\n",
      " 7.74977396e-01 7.75203436e-01 7.80402351e-01 7.82436709e-01\n",
      " 7.85714286e-01 7.86053345e-01 7.86279385e-01 7.86731465e-01\n",
      " 7.90009042e-01 7.90461121e-01 7.90574141e-01 7.91478300e-01\n",
      " 7.92269439e-01 7.92382459e-01 7.92608499e-01 7.92834539e-01\n",
      " 7.93060579e-01 7.93173599e-01 7.93399638e-01 7.95094937e-01\n",
      " 7.96564195e-01 7.97242315e-01 7.97581374e-01 7.98146474e-01\n",
      " 7.98485533e-01 7.98937613e-01 7.99502712e-01 7.99841772e-01\n",
      " 8.00519892e-01 8.18264014e-01 8.40302893e-01 8.75678119e-01\n",
      " 8.83589512e-01 8.98960217e-01 9.16478300e-01 9.24954792e-01\n",
      " 9.24954792e-01 9.25293852e-01 9.45185353e-01 9.50949367e-01\n",
      " 9.57504521e-01 9.66207052e-01 9.77396022e-01 9.80221519e-01\n",
      " 9.84290235e-01 9.90393309e-01 9.91975588e-01 9.98078662e-01\n",
      " 1.00000000e+00],tpr:[0.00000000e+00 9.06618314e-04 9.06618314e-04 4.53309157e-03\n",
      " 4.53309157e-03 5.43970988e-03 5.43970988e-03 1.17860381e-02\n",
      " 1.17860381e-02 1.26926564e-02 1.26926564e-02 2.71985494e-02\n",
      " 2.71985494e-02 3.26382593e-02 3.26382593e-02 3.44514959e-02\n",
      " 3.44514959e-02 4.26110607e-02 4.26110607e-02 4.35176791e-02\n",
      " 4.53309157e-02 4.62375340e-02 4.71441523e-02 4.71441523e-02\n",
      " 4.89573889e-02 4.89573889e-02 5.34904805e-02 5.34904805e-02\n",
      " 5.80235721e-02 5.80235721e-02 5.89301904e-02 6.07434270e-02\n",
      " 6.16500453e-02 6.34632820e-02 6.70897552e-02 6.70897552e-02\n",
      " 6.79963735e-02 6.79963735e-02 6.98096102e-02 7.16228468e-02\n",
      " 7.16228468e-02 7.16228468e-02 7.43427017e-02 7.61559383e-02\n",
      " 7.61559383e-02 7.79691750e-02 7.79691750e-02 8.06890299e-02\n",
      " 8.52221215e-02 8.52221215e-02 8.70353581e-02 8.79419764e-02\n",
      " 9.15684497e-02 9.33816863e-02 9.33816863e-02 9.42883046e-02\n",
      " 9.61015413e-02 9.79147779e-02 1.01541251e-01 1.01541251e-01\n",
      " 1.03354488e-01 1.03354488e-01 1.06074343e-01 1.06074343e-01\n",
      " 1.07887579e-01 1.07887579e-01 1.08794198e-01 1.08794198e-01\n",
      " 1.10607434e-01 1.14233908e-01 1.16047144e-01 1.16953762e-01\n",
      " 1.17860381e-01 1.18766999e-01 1.20580236e-01 1.23300091e-01\n",
      " 1.24206709e-01 1.24206709e-01 1.25113327e-01 1.25113327e-01\n",
      " 1.26926564e-01 1.28739801e-01 1.30553037e-01 1.30553037e-01\n",
      " 1.34179510e-01 1.34179510e-01 1.36899365e-01 1.36899365e-01\n",
      " 1.36899365e-01 1.36899365e-01 1.38712602e-01 1.38712602e-01\n",
      " 1.39619220e-01 1.41432457e-01 1.45965549e-01 1.47778785e-01\n",
      " 1.47778785e-01 1.48685403e-01 1.49592022e-01 1.49592022e-01\n",
      " 1.51405258e-01 1.51405258e-01 1.52311877e-01 1.52311877e-01\n",
      " 1.54125113e-01 1.55031732e-01 1.55031732e-01 1.57751587e-01\n",
      " 1.57751587e-01 1.58658205e-01 1.58658205e-01 1.60471442e-01\n",
      " 1.61378060e-01 1.61378060e-01 1.64097915e-01 1.64097915e-01\n",
      " 1.65004533e-01 1.70444243e-01 1.71350861e-01 1.74070716e-01\n",
      " 1.74070716e-01 1.77697189e-01 1.77697189e-01 1.83136899e-01\n",
      " 1.83136899e-01 1.84950136e-01 1.84950136e-01 1.85856754e-01\n",
      " 1.85856754e-01 1.86763373e-01 1.86763373e-01 1.87669991e-01\n",
      " 1.87669991e-01 1.88576609e-01 1.88576609e-01 1.90389846e-01\n",
      " 1.91296464e-01 1.91296464e-01 1.92203083e-01 1.92203083e-01\n",
      " 1.93109701e-01 1.93109701e-01 1.93109701e-01 1.95829556e-01\n",
      " 1.95829556e-01 1.95829556e-01 1.96736174e-01 1.96736174e-01\n",
      " 1.98549411e-01 2.00362647e-01 2.03082502e-01 2.03082502e-01\n",
      " 2.03082502e-01 2.05802357e-01 2.05802357e-01 2.06708976e-01\n",
      " 2.06708976e-01 2.07615594e-01 2.07615594e-01 2.08522212e-01\n",
      " 2.08522212e-01 2.10335449e-01 2.10335449e-01 2.12148685e-01\n",
      " 2.13055304e-01 2.17588395e-01 2.19401632e-01 2.21214869e-01\n",
      " 2.23028105e-01 2.24841342e-01 2.25747960e-01 2.25747960e-01\n",
      " 2.26654578e-01 2.26654578e-01 2.27561197e-01 2.27561197e-01\n",
      " 2.28467815e-01 2.28467815e-01 2.29374433e-01 2.30281052e-01\n",
      " 2.32094288e-01 2.32094288e-01 2.33000907e-01 2.33000907e-01\n",
      " 2.33000907e-01 2.33907525e-01 2.33907525e-01 2.35720762e-01\n",
      " 2.38440617e-01 2.38440617e-01 2.40253853e-01 2.41160471e-01\n",
      " 2.42067090e-01 2.42067090e-01 2.43880326e-01 2.44786945e-01\n",
      " 2.44786945e-01 2.46600181e-01 2.46600181e-01 2.46600181e-01\n",
      " 2.47506800e-01 2.48413418e-01 2.49320036e-01 2.49320036e-01\n",
      " 2.50226655e-01 2.52039891e-01 2.52946510e-01 2.52946510e-01\n",
      " 2.53853128e-01 2.53853128e-01 2.56572983e-01 2.57479601e-01\n",
      " 2.57479601e-01 2.58386219e-01 2.59292838e-01 2.59292838e-01\n",
      " 2.59292838e-01 2.59292838e-01 2.60199456e-01 2.61106074e-01\n",
      " 2.62919311e-01 2.63825929e-01 2.63825929e-01 2.64732548e-01\n",
      " 2.64732548e-01 2.65639166e-01 2.65639166e-01 2.66545784e-01\n",
      " 2.66545784e-01 2.68359021e-01 2.69265639e-01 2.70172257e-01\n",
      " 2.71985494e-01 2.72892112e-01 2.72892112e-01 2.72892112e-01\n",
      " 2.74705349e-01 2.76518586e-01 2.76518586e-01 2.76518586e-01\n",
      " 2.77425204e-01 2.78331822e-01 2.78331822e-01 2.78331822e-01\n",
      " 2.78331822e-01 2.80145059e-01 2.80145059e-01 2.80145059e-01\n",
      " 2.81958296e-01 2.83771532e-01 2.83771532e-01 2.86491387e-01\n",
      " 2.86491387e-01 2.87398005e-01 2.87398005e-01 2.89211242e-01\n",
      " 2.89211242e-01 2.90117860e-01 2.91024479e-01 2.91024479e-01\n",
      " 2.91931097e-01 2.91931097e-01 2.93744334e-01 2.94650952e-01\n",
      " 2.94650952e-01 2.95557570e-01 2.95557570e-01 2.97370807e-01\n",
      " 2.99184044e-01 2.99184044e-01 2.99184044e-01 3.01903898e-01\n",
      " 3.02810517e-01 3.02810517e-01 3.06436990e-01 3.06436990e-01\n",
      " 3.08250227e-01 3.09156845e-01 3.09156845e-01 3.11876700e-01\n",
      " 3.11876700e-01 3.12783318e-01 3.12783318e-01 3.13689937e-01\n",
      " 3.13689937e-01 3.13689937e-01 3.13689937e-01 3.14596555e-01\n",
      " 3.14596555e-01 3.16409791e-01 3.20036265e-01 3.20036265e-01\n",
      " 3.20942883e-01 3.21849501e-01 3.21849501e-01 3.22756120e-01\n",
      " 3.23662738e-01 3.23662738e-01 3.26382593e-01 3.30009066e-01\n",
      " 3.30009066e-01 3.31822303e-01 3.31822303e-01 3.32728921e-01\n",
      " 3.33635539e-01 3.34542158e-01 3.34542158e-01 3.35448776e-01\n",
      " 3.35448776e-01 3.36355394e-01 3.36355394e-01 3.37262013e-01\n",
      " 3.38168631e-01 3.39981868e-01 3.40888486e-01 3.40888486e-01\n",
      " 3.41795104e-01 3.41795104e-01 3.41795104e-01 3.41795104e-01\n",
      " 3.41795104e-01 3.41795104e-01 3.51767906e-01 3.60834089e-01\n",
      " 3.60834089e-01 3.68087035e-01 3.68993654e-01 3.68993654e-01\n",
      " 3.69900272e-01 3.69900272e-01 3.70806890e-01 3.72620127e-01\n",
      " 3.73526745e-01 3.74433364e-01 3.74433364e-01 3.76246600e-01\n",
      " 3.78059837e-01 3.78059837e-01 3.78966455e-01 3.78966455e-01\n",
      " 3.80779692e-01 3.81686310e-01 3.83499547e-01 3.84406165e-01\n",
      " 3.88939257e-01 3.88939257e-01 3.90752493e-01 3.91659112e-01\n",
      " 3.91659112e-01 3.93472348e-01 3.93472348e-01 3.94378966e-01\n",
      " 3.95285585e-01 3.95285585e-01 3.98005440e-01 4.02538531e-01\n",
      " 4.04351768e-01 4.06165005e-01 4.06165005e-01 4.07978241e-01\n",
      " 4.08884859e-01 4.08884859e-01 4.10698096e-01 4.10698096e-01\n",
      " 4.12511333e-01 4.12511333e-01 4.13417951e-01 4.14324569e-01\n",
      " 4.14324569e-01 4.14324569e-01 4.14324569e-01 4.15231188e-01\n",
      " 4.15231188e-01 4.16137806e-01 4.17951043e-01 4.17951043e-01\n",
      " 4.17951043e-01 4.17951043e-01 4.18857661e-01 4.18857661e-01\n",
      " 4.18857661e-01 4.21577516e-01 4.21577516e-01 4.22484134e-01\n",
      " 4.22484134e-01 4.23390752e-01 4.23390752e-01 4.23390752e-01\n",
      " 4.23390752e-01 4.23390752e-01 4.24297371e-01 4.24297371e-01\n",
      " 4.24297371e-01 4.24297371e-01 4.25203989e-01 4.26110607e-01\n",
      " 4.26110607e-01 4.26110607e-01 4.26110607e-01 4.26110607e-01\n",
      " 4.26110607e-01 4.27923844e-01 4.28830462e-01 4.28830462e-01\n",
      " 4.29737081e-01 4.29737081e-01 4.33363554e-01 4.33363554e-01\n",
      " 4.35176791e-01 4.36083409e-01 4.36990027e-01 4.37896646e-01\n",
      " 4.38803264e-01 4.38803264e-01 4.39709882e-01 4.41523119e-01\n",
      " 4.41523119e-01 4.42429737e-01 4.44242974e-01 4.44242974e-01\n",
      " 4.45149592e-01 4.46056210e-01 4.46056210e-01 4.46962829e-01\n",
      " 4.46962829e-01 4.49682684e-01 4.50589302e-01 4.50589302e-01\n",
      " 4.52402539e-01 4.53309157e-01 4.53309157e-01 4.54215775e-01\n",
      " 4.54215775e-01 4.54215775e-01 4.54215775e-01 4.55122393e-01\n",
      " 4.56935630e-01 4.57842248e-01 4.57842248e-01 4.58748867e-01\n",
      " 4.58748867e-01 4.60562103e-01 4.60562103e-01 4.61468722e-01\n",
      " 4.61468722e-01 4.61468722e-01 4.61468722e-01 4.62375340e-01\n",
      " 4.63281958e-01 4.65095195e-01 4.65095195e-01 4.65095195e-01\n",
      " 4.65095195e-01 4.66001813e-01 4.66001813e-01 4.66001813e-01\n",
      " 4.66001813e-01 4.66001813e-01 4.66001813e-01 4.66908432e-01\n",
      " 4.66908432e-01 4.68721668e-01 4.70534905e-01 4.73254760e-01\n",
      " 4.74161378e-01 4.74161378e-01 4.78694470e-01 4.78694470e-01\n",
      " 4.79601088e-01 4.79601088e-01 4.80507706e-01 4.81414325e-01\n",
      " 4.81414325e-01 4.81414325e-01 4.81414325e-01 4.81414325e-01\n",
      " 4.81414325e-01 4.83227561e-01 4.83227561e-01 4.84134180e-01\n",
      " 4.84134180e-01 4.85040798e-01 4.85040798e-01 4.85947416e-01\n",
      " 4.85947416e-01 4.86854034e-01 4.86854034e-01 4.87760653e-01\n",
      " 4.87760653e-01 4.88667271e-01 4.88667271e-01 4.89573889e-01\n",
      " 4.89573889e-01 4.90480508e-01 4.90480508e-01 4.90480508e-01\n",
      " 4.90480508e-01 4.91387126e-01 4.94106981e-01 4.94106981e-01\n",
      " 4.95013599e-01 4.95013599e-01 4.95920218e-01 4.99546691e-01\n",
      " 5.01359927e-01 5.01359927e-01 5.02266546e-01 5.02266546e-01\n",
      " 5.04079782e-01 5.05893019e-01 5.06799637e-01 5.06799637e-01\n",
      " 5.06799637e-01 5.08612874e-01 5.08612874e-01 5.10426111e-01\n",
      " 5.12239347e-01 5.12239347e-01 5.13145966e-01 5.13145966e-01\n",
      " 5.14052584e-01 5.14052584e-01 5.25838622e-01 5.25838622e-01\n",
      " 5.25838622e-01 5.26745240e-01 5.35811423e-01 5.38531278e-01\n",
      " 5.44877607e-01 5.44877607e-01 5.45784225e-01 5.51223935e-01\n",
      " 5.51223935e-01 5.59383500e-01 5.59383500e-01 5.59383500e-01\n",
      " 5.59383500e-01 5.59383500e-01 5.60290118e-01 5.61196736e-01\n",
      " 5.63009973e-01 5.63009973e-01 5.63916591e-01 5.63916591e-01\n",
      " 5.65729828e-01 5.65729828e-01 5.65729828e-01 5.65729828e-01\n",
      " 5.65729828e-01 5.65729828e-01 5.67543064e-01 5.67543064e-01\n",
      " 5.67543064e-01 5.68449683e-01 5.68449683e-01 5.68449683e-01\n",
      " 5.69356301e-01 5.70262919e-01 5.70262919e-01 5.70262919e-01\n",
      " 5.72076156e-01 5.72076156e-01 5.73889393e-01 5.75702629e-01\n",
      " 5.75702629e-01 5.75702629e-01 5.75702629e-01 5.76609248e-01\n",
      " 5.76609248e-01 5.76609248e-01 5.77515866e-01 5.77515866e-01\n",
      " 5.78422484e-01 5.78422484e-01 5.79329102e-01 5.79329102e-01\n",
      " 5.80235721e-01 5.81142339e-01 5.81142339e-01 5.81142339e-01\n",
      " 5.82048957e-01 5.82955576e-01 5.94741614e-01 5.94741614e-01\n",
      " 5.94741614e-01 5.94741614e-01 5.94741614e-01 5.94741614e-01\n",
      " 5.94741614e-01 5.94741614e-01 5.94741614e-01 5.94741614e-01\n",
      " 5.94741614e-01 5.94741614e-01 5.95648232e-01 5.95648232e-01\n",
      " 5.96554850e-01 5.97461469e-01 5.97461469e-01 6.00181324e-01\n",
      " 6.00181324e-01 6.01994560e-01 6.01994560e-01 6.01994560e-01\n",
      " 6.01994560e-01 6.03807797e-01 6.03807797e-01 6.04714415e-01\n",
      " 6.04714415e-01 6.05621034e-01 6.05621034e-01 6.05621034e-01\n",
      " 6.05621034e-01 6.11967362e-01 6.13780598e-01 6.20126927e-01\n",
      " 6.20126927e-01 6.21033545e-01 6.22846782e-01 6.31912965e-01\n",
      " 6.31912965e-01 6.38259293e-01 6.38259293e-01 6.42792384e-01\n",
      " 6.47325476e-01 6.47325476e-01 6.52765186e-01 6.53671804e-01\n",
      " 6.60018132e-01 6.60018132e-01 6.60924751e-01 6.60924751e-01\n",
      " 6.61831369e-01 6.61831369e-01 6.62737987e-01 6.62737987e-01\n",
      " 6.63644606e-01 6.63644606e-01 6.64551224e-01 6.64551224e-01\n",
      " 6.65457842e-01 6.66364461e-01 6.67271079e-01 6.67271079e-01\n",
      " 6.67271079e-01 6.67271079e-01 6.67271079e-01 6.67271079e-01\n",
      " 6.67271079e-01 6.67271079e-01 6.67271079e-01 6.68177697e-01\n",
      " 6.69084316e-01 6.75430644e-01 6.75430644e-01 6.75430644e-01\n",
      " 6.75430644e-01 6.77243880e-01 6.77243880e-01 6.77243880e-01\n",
      " 6.77243880e-01 6.77243880e-01 6.83590209e-01 6.83590209e-01\n",
      " 6.84496827e-01 6.84496827e-01 6.92656392e-01 6.95376247e-01\n",
      " 6.95376247e-01 6.98096102e-01 6.98096102e-01 6.98096102e-01\n",
      " 6.98096102e-01 6.99002720e-01 6.99909338e-01 6.99909338e-01\n",
      " 6.99909338e-01 6.99909338e-01 7.00815956e-01 7.00815956e-01\n",
      " 7.00815956e-01 7.00815956e-01 7.00815956e-01 7.00815956e-01\n",
      " 7.01722575e-01 7.01722575e-01 7.01722575e-01 7.01722575e-01\n",
      " 7.01722575e-01 7.02629193e-01 7.02629193e-01 7.04442430e-01\n",
      " 7.05349048e-01 7.08068903e-01 7.08975521e-01 7.14415231e-01\n",
      " 7.16228468e-01 7.16228468e-01 7.17135086e-01 7.17135086e-01\n",
      " 7.18041704e-01 7.18948323e-01 7.18948323e-01 7.18948323e-01\n",
      " 7.18948323e-01 7.19854941e-01 7.19854941e-01 7.19854941e-01\n",
      " 7.19854941e-01 7.19854941e-01 7.20761559e-01 7.25294651e-01\n",
      " 7.25294651e-01 7.25294651e-01 7.26201269e-01 7.28921124e-01\n",
      " 7.28921124e-01 7.28921124e-01 7.28921124e-01 7.35267452e-01\n",
      " 7.35267452e-01 7.35267452e-01 7.35267452e-01 7.36174071e-01\n",
      " 7.36174071e-01 7.37987307e-01 7.37987307e-01 7.37987307e-01\n",
      " 7.37987307e-01 7.40707162e-01 7.40707162e-01 7.41613781e-01\n",
      " 7.41613781e-01 7.43427017e-01 7.43427017e-01 7.44333636e-01\n",
      " 7.44333636e-01 7.44333636e-01 7.45240254e-01 7.45240254e-01\n",
      " 7.46146872e-01 7.49773345e-01 7.51586582e-01 7.51586582e-01\n",
      " 7.51586582e-01 7.53399819e-01 7.53399819e-01 7.55213055e-01\n",
      " 7.56119674e-01 7.57026292e-01 7.57026292e-01 7.57026292e-01\n",
      " 7.64279238e-01 7.68812330e-01 7.72438803e-01 7.88757933e-01\n",
      " 8.03263826e-01 8.18676337e-01 8.19582956e-01 8.21396192e-01\n",
      " 8.25929284e-01 8.26835902e-01 8.27742520e-01 8.27742520e-01\n",
      " 8.28649139e-01 8.29555757e-01 8.30462375e-01 8.31368994e-01\n",
      " 8.31368994e-01 8.31368994e-01 8.31368994e-01 8.31368994e-01\n",
      " 8.31368994e-01 8.31368994e-01 8.31368994e-01 8.31368994e-01\n",
      " 8.31368994e-01 8.31368994e-01 8.31368994e-01 8.31368994e-01\n",
      " 8.31368994e-01 8.31368994e-01 8.31368994e-01 8.31368994e-01\n",
      " 8.31368994e-01 8.32275612e-01 8.34088849e-01 8.34088849e-01\n",
      " 8.36808704e-01 8.40435177e-01 8.47688123e-01 8.51314597e-01\n",
      " 8.61287398e-01 8.65820490e-01 8.71260199e-01 8.71260199e-01\n",
      " 8.72166818e-01 8.73980054e-01 8.73980054e-01 8.74886673e-01\n",
      " 8.74886673e-01 8.74886673e-01 8.87579329e-01 8.89392566e-01\n",
      " 8.95738894e-01 8.98458749e-01 8.98458749e-01 8.99365367e-01\n",
      " 8.99365367e-01 8.99365367e-01 8.99365367e-01 8.99365367e-01\n",
      " 9.02991840e-01 9.03898459e-01 9.09338169e-01 9.17497733e-01\n",
      " 9.20217588e-01 9.25657298e-01 9.26563917e-01 9.26563917e-01\n",
      " 9.26563917e-01 9.27470535e-01 9.28377153e-01 9.28377153e-01\n",
      " 9.29283772e-01 9.32910245e-01 9.41976428e-01 9.41976428e-01\n",
      " 9.41976428e-01 9.42883046e-01 9.42883046e-01 9.44696283e-01\n",
      " 9.44696283e-01 9.47416138e-01 9.48322756e-01 9.48322756e-01\n",
      " 9.49229374e-01 9.49229374e-01 9.51042611e-01 9.51042611e-01\n",
      " 9.53762466e-01 9.53762466e-01 9.53762466e-01 9.53762466e-01\n",
      " 9.54669084e-01 9.54669084e-01 9.54669084e-01 9.54669084e-01\n",
      " 9.54669084e-01 9.54669084e-01 9.54669084e-01 9.54669084e-01\n",
      " 9.54669084e-01 9.55575703e-01 9.55575703e-01 9.56482321e-01\n",
      " 9.57388939e-01 9.57388939e-01 9.57388939e-01 9.57388939e-01\n",
      " 9.57388939e-01 9.58295558e-01 9.59202176e-01 9.59202176e-01\n",
      " 9.59202176e-01 9.63735267e-01 9.67361741e-01 9.73708069e-01\n",
      " 9.76427924e-01 9.81867634e-01 9.84587489e-01 9.87307344e-01\n",
      " 9.88213962e-01 9.88213962e-01 9.90027199e-01 9.90933817e-01\n",
      " 9.91840435e-01 9.92747053e-01 9.95466908e-01 9.96373527e-01\n",
      " 9.96373527e-01 9.99093382e-01 9.99093382e-01 1.00000000e+00\n",
      " 1.00000000e+00],thresholds:[1.91317859 0.91317859 0.89961127 0.87896452 0.87032295 0.85911117\n",
      " 0.8587663  0.83741797 0.83119503 0.83083846 0.83076708 0.80137617\n",
      " 0.80014608 0.78564045 0.78546935 0.78479856 0.78248709 0.76729784\n",
      " 0.76729769 0.76394239 0.7638508  0.76311718 0.76305455 0.76136853\n",
      " 0.75803108 0.75513181 0.74658239 0.74565159 0.74333315 0.74178561\n",
      " 0.74084707 0.74074955 0.74065202 0.73974509 0.73744498 0.73470133\n",
      " 0.7342864  0.72747459 0.7253734  0.72517103 0.72456335 0.7231422\n",
      " 0.72181852 0.72130837 0.72028637 0.71997932 0.7193646  0.71844099\n",
      " 0.71015222 0.70874407 0.70721485 0.70714377 0.70710968 0.70637292\n",
      " 0.70613537 0.7039788  0.70380548 0.70207033 0.70153895 0.7014326\n",
      " 0.69798352 0.69108838 0.68525081 0.6852111  0.67997628 0.67188434\n",
      " 0.67085384 0.67025847 0.66749671 0.66550024 0.66459525 0.66451679\n",
      " 0.66255458 0.66224875 0.66202153 0.66059077 0.65951722 0.65883267\n",
      " 0.65860434 0.65842405 0.65837594 0.65830312 0.65818888 0.6571184\n",
      " 0.65123706 0.64830336 0.64290234 0.64204974 0.63859711 0.62680824\n",
      " 0.62421643 0.62024071 0.61955231 0.61904382 0.59418994 0.59412225\n",
      " 0.5890511  0.58888359 0.58843631 0.5874171  0.58264917 0.57600071\n",
      " 0.5701519  0.56580802 0.56568326 0.5639357  0.56295535 0.55768916\n",
      " 0.54481494 0.53941716 0.5392379  0.53898554 0.53822833 0.53709218\n",
      " 0.53696592 0.53683966 0.53671338 0.53106537 0.52600362 0.52407693\n",
      " 0.52079182 0.51565524 0.51394444 0.50898654 0.50733652 0.50256587\n",
      " 0.50020687 0.49995295 0.49540308 0.48596543 0.48593779 0.48567724\n",
      " 0.4803715  0.47935748 0.47859707 0.47821691 0.47771006 0.47682319\n",
      " 0.4761898  0.47441672 0.47274793 0.47224163 0.47201143 0.47174512\n",
      " 0.47099906 0.46714561 0.46481784 0.46393364 0.46195243 0.46144758\n",
      " 0.4589977  0.45798903 0.45647668 0.4525187  0.45217463 0.4499855\n",
      " 0.44779705 0.44649434 0.44057795 0.44045278 0.43977459 0.43970197\n",
      " 0.43957687 0.42871894 0.42771785 0.42610901 0.42523994 0.42399921\n",
      " 0.42305924 0.42300732 0.42281136 0.42268743 0.42194407 0.42107726\n",
      " 0.42095347 0.42077784 0.42070592 0.42046719 0.41954062 0.4173162\n",
      " 0.41583511 0.41460859 0.41263133 0.40895038 0.40893454 0.40758501\n",
      " 0.40735561 0.40697205 0.40685878 0.40391161 0.4036671  0.40347411\n",
      " 0.40342263 0.40330041 0.40322251 0.4029853  0.40285596 0.40146862\n",
      " 0.39956907 0.39830929 0.39782704 0.3976086  0.39567487 0.39479158\n",
      " 0.39345567 0.39320885 0.39288705 0.38937982 0.3892943  0.38915868\n",
      " 0.38881147 0.38822386 0.38757019 0.38748482 0.38708814 0.38636548\n",
      " 0.38628021 0.38504192 0.3845827  0.38434234 0.38398191 0.383635\n",
      " 0.3836216  0.38335984 0.38326142 0.38314139 0.38302138 0.38266141\n",
      " 0.38242151 0.38218166 0.38195525 0.38194187 0.38146246 0.38134265\n",
      " 0.38111643 0.38086353 0.38062406 0.38014529 0.38002563 0.37991934\n",
      " 0.37990599 0.37978636 0.37954715 0.37906891 0.37835198 0.37751624\n",
      " 0.37680047 0.37668123 0.37608524 0.37548962 0.37539925 0.37513243\n",
      " 0.37475413 0.37471621 0.37445093 0.37251722 0.37102408 0.37061991\n",
      " 0.37026461 0.36984471 0.36958295 0.36922805 0.36813575 0.36742726\n",
      " 0.36607237 0.36574842 0.36565856 0.36454212 0.36389348 0.36377594\n",
      " 0.36365841 0.3635409  0.36342341 0.36307102 0.36295359 0.35891381\n",
      " 0.35721984 0.35701047 0.35424647 0.35419384 0.35268519 0.35236112\n",
      " 0.35229379 0.35227408 0.35112302 0.35094808 0.35078883 0.35044195\n",
      " 0.34886089 0.34863807 0.3466545  0.34632731 0.34610526 0.34607964\n",
      " 0.34467142 0.34440674 0.34438332 0.34289679 0.34266545 0.34117997\n",
      " 0.33914289 0.33810469 0.33809694 0.33709719 0.3359719  0.33464614\n",
      " 0.33449209 0.33002858 0.32686372 0.3266806  0.32605332 0.32474248\n",
      " 0.32403003 0.32384814 0.32370802 0.32282546 0.32231899 0.32182711\n",
      " 0.32180936 0.32132146 0.32094106 0.32089104 0.3200563  0.31983531\n",
      " 0.31966255 0.31917282 0.31909635 0.31850121 0.31839099 0.31835104\n",
      " 0.3182285  0.31810412 0.31794252 0.31789806 0.31762003 0.31718976\n",
      " 0.31667381 0.31657811 0.31634423 0.31628067 0.31579534 0.31562213\n",
      " 0.31529314 0.31493232 0.3146991  0.31438475 0.31426118 0.31408843\n",
      " 0.31381817 0.31360492 0.31350972 0.31348667 0.31338633 0.31321384\n",
      " 0.31320743 0.31316782 0.3130982  0.3130586  0.31298899 0.31284022\n",
      " 0.31277704 0.3119493  0.31191661 0.31157756 0.31142277 0.31098734\n",
      " 0.31087854 0.30963833 0.30942765 0.30734527 0.306913   0.30634161\n",
      " 0.30612582 0.30610308 0.30547898 0.3041876  0.30368182 0.30272595\n",
      " 0.3026513  0.3020086  0.30112045 0.2990841  0.29898733 0.29892613\n",
      " 0.29856175 0.29812686 0.29780817 0.29778297 0.29749932 0.29745866\n",
      " 0.29718102 0.29711963 0.29706532 0.29442105 0.29126611 0.29036385\n",
      " 0.29032352 0.2888821  0.28830633 0.28781879 0.28589796 0.28543054\n",
      " 0.28437395 0.28077071 0.28074229 0.28048492 0.28025824 0.28015581\n",
      " 0.27974634 0.27965974 0.27963449 0.27923501 0.2792251  0.27891896\n",
      " 0.27873994 0.27871436 0.27861228 0.2785106  0.27841808 0.27833174\n",
      " 0.27812777 0.27811706 0.2779239  0.27789836 0.27769459 0.27749092\n",
      " 0.27738911 0.27719544 0.27718595 0.27718557 0.27698213 0.27657551\n",
      " 0.2753677  0.27454797 0.27404252 0.27162449 0.27112242 0.27102208\n",
      " 0.2704205  0.26967138 0.26799311 0.26782342 0.26732579 0.26633401\n",
      " 0.26568945 0.26469986 0.26441278 0.26369218 0.26366169 0.26346455\n",
      " 0.26326751 0.26297212 0.26172636 0.26149838 0.26117931 0.26096097\n",
      " 0.26074629 0.2606167  0.26039612 0.26039038 0.26035492 0.26029259\n",
      " 0.25980399 0.25927919 0.2592116  0.25893174 0.25869443 0.2572363\n",
      " 0.25707206 0.25344065 0.25327168 0.25324649 0.25311565 0.2527666\n",
      " 0.25273183 0.25247896 0.25202141 0.25196533 0.25158217 0.25120037\n",
      " 0.24895122 0.24778943 0.24752966 0.24693851 0.24611356 0.24599536\n",
      " 0.24512879 0.2448907  0.24061566 0.24005254 0.23780068 0.23475716\n",
      " 0.23129845 0.23112762 0.23111791 0.22976704 0.22910037 0.22766849\n",
      " 0.22748995 0.2272497  0.22609245 0.22493939 0.2242691  0.22338717\n",
      " 0.22334974 0.22332083 0.22312298 0.22247006 0.22229442 0.2221507\n",
      " 0.22211888 0.22203115 0.2208055  0.22071814 0.2206308  0.22028171\n",
      " 0.21919492 0.21710773 0.21452937 0.21268032 0.21217576 0.21201716\n",
      " 0.21131881 0.21072696 0.20986037 0.20971519 0.20795318 0.20786954\n",
      " 0.20753526 0.20748608 0.20737233 0.20711797 0.20706886 0.20645159\n",
      " 0.20620615 0.20570784 0.205455   0.20462724 0.20396681 0.20183138\n",
      " 0.20150434 0.20028147 0.20009644 0.19604624 0.19524706 0.19515984\n",
      " 0.19484097 0.1847315  0.18400525 0.18331999 0.18319099 0.18278838\n",
      " 0.17979625 0.17974435 0.17934735 0.17768639 0.17694559 0.17676888\n",
      " 0.17517553 0.17480895 0.1745893  0.17323571 0.17258208 0.17207505\n",
      " 0.17178584 0.17099253 0.17027385 0.16937797 0.16902104 0.16870123\n",
      " 0.1686647  0.16852999 0.16852234 0.16817449 0.16795383 0.1677065\n",
      " 0.16759929 0.16745764 0.1672109  0.16640592 0.16570267 0.16425397\n",
      " 0.16334971 0.16332943 0.16103011 0.1591601  0.15796661 0.15754334\n",
      " 0.15709046 0.15628522 0.15561676 0.15309786 0.15263971 0.15259025\n",
      " 0.15244276 0.14986383 0.144202   0.14368629 0.14273485 0.14120497\n",
      " 0.14089733 0.14010011 0.13936756 0.13875955 0.13827476 0.13670897\n",
      " 0.13601197 0.13557421 0.1354163  0.13529743 0.13516708 0.13464522\n",
      " 0.13398419 0.13197933 0.13145661 0.13105127 0.13098396 0.13091995\n",
      " 0.13082012 0.13018625 0.12999821 0.12961227 0.12876907 0.12835709\n",
      " 0.12756375 0.12752131 0.12716865 0.12678703 0.12660603 0.1251099\n",
      " 0.12343841 0.1227005  0.12208558 0.11940467 0.11813501 0.11599762\n",
      " 0.11496155 0.11273231 0.11263076 0.11204904 0.11187167 0.10925457\n",
      " 0.10894888 0.10597781 0.10550687 0.10537238 0.10513326 0.10504881\n",
      " 0.10428737 0.10357794 0.10347275 0.10309648 0.10231152 0.10185984\n",
      " 0.10169623 0.10142894 0.10110541 0.10093441 0.10064481 0.10027746\n",
      " 0.09990259 0.09972007 0.09933286 0.0982304  0.09822012 0.09750278\n",
      " 0.09686182 0.09683452 0.09657849 0.09648991 0.09644565 0.0964014\n",
      " 0.09639129 0.09631297 0.09626878 0.0962246  0.09604809 0.09600401\n",
      " 0.09542256 0.09481063 0.09450599 0.09423032 0.09407231 0.09058822\n",
      " 0.09056251 0.09023414 0.09010915 0.09006752 0.09002591 0.08981811\n",
      " 0.08796178 0.08694024 0.08657811 0.0862974  0.08613736 0.08569864\n",
      " 0.08530157 0.08471858 0.08443388 0.08388588 0.0836131  0.08322481\n",
      " 0.08080099 0.0805341  0.07975658 0.0792206  0.07851629 0.07847955\n",
      " 0.07846174 0.07844283 0.07840613 0.07837932 0.07829611 0.07756266\n",
      " 0.07646581 0.07638532 0.07617226 0.07530434 0.07513803 0.07482373\n",
      " 0.07424704 0.07421541 0.07417726 0.07371798 0.07368679 0.07367185\n",
      " 0.07346944 0.07340033 0.07334091 0.07321994 0.07315886 0.07254761\n",
      " 0.07177379 0.07142807 0.07134703 0.07106538 0.07099836 0.0709314\n",
      " 0.07089794 0.07069749 0.07032449 0.0701918  0.07012555 0.06919317\n",
      " 0.06856041 0.068423   0.06836168 0.06784263 0.06749022 0.06735194\n",
      " 0.06723498 0.06720314 0.06717131 0.0671395  0.0671077  0.06704414\n",
      " 0.06701238 0.06698064 0.06688549 0.0668538  0.06682213 0.06631403\n",
      " 0.06460546 0.06385416 0.06337017 0.06329142 0.06293794 0.06291954\n",
      " 0.06262078 0.06196816 0.06155618 0.06135114 0.06105935 0.05955841\n",
      " 0.05950154 0.05935961 0.05749864 0.05748529 0.05747112 0.05744362\n",
      " 0.05742353 0.05738865 0.05625705 0.0559303  0.0557976  0.05539017\n",
      " 0.05483086 0.05476209 0.05433059 0.05430451 0.05427843 0.05425237\n",
      " 0.05422632 0.05420028 0.05417425 0.05390106 0.05374982 0.053128\n",
      " 0.05130321 0.05125379 0.05107172 0.05080168 0.05075272 0.05072826\n",
      " 0.05070381 0.05056613 0.05025514 0.04978297 0.04929008 0.0492419\n",
      " 0.04910005 0.04907634 0.04905265 0.04902896 0.04900529 0.04895798\n",
      " 0.04893434 0.04891071 0.0488163  0.04879273 0.04841461 0.04820626\n",
      " 0.04744314 0.04714393 0.04335555 0.04095286 0.04091298 0.04081347\n",
      " 0.03989852 0.03952879 0.03950951 0.03949024 0.03947099 0.03945174\n",
      " 0.0394325  0.03941327 0.03864044 0.03701861 0.03688765 0.03686961\n",
      " 0.03685158 0.03617089 0.03615319 0.03577401 0.03505608 0.0350112\n",
      " 0.03488517 0.03486808 0.03485099 0.03481685 0.03479979 0.03247987\n",
      " 0.03246391 0.03243203 0.03241609 0.02968129 0.02965205 0.02957908\n",
      " 0.0261666  0.02615005 0.02536457 0.02522719 0.0252147  0.02520222\n",
      " 0.0243439  0.02379234 0.02378055 0.02376876 0.02375698 0.0237452\n",
      " 0.02373344 0.02368641 0.02348324 0.01887252 0.01778364 0.01777477\n",
      " 0.0171594  0.01715084 0.01714228 0.01713372 0.01712517 0.01711663\n",
      " 0.01708249 0.01280386 0.01279745]\n"
     ]
    },
    {
     "data": {
      "image/png": "[encoded data removed]",
      "text/plain": [
       "<Figure size 432x288 with 1 Axes>"
      ]
     },
     "metadata": {
      "needs_background": "light"
     },
     "output_type": "display_data"
    }
   ],
   "source": [
    "logit_roc_auc = roc_auc_score(y_test,logreg.predict(x_test))\n",
    "fpr,tpr,thresholds = roc_curve(y_test,logreg.predict_proba(x_test)[:,1]) #true possibility和false possibility,predict_proba返回属于某标签的概率\n",
    "print(f\"fpr:{fpr},tpr:{tpr},thresholds:{thresholds}\")\n",
    "plt.figure()\n",
    "plt.plot(fpr,tpr,label='Logistic Regression {logit_roc_auc}')\n",
    "plt.plot([0,1],[0,1],'r--')\n",
    "plt.xlim([0.0,1.0])\n",
    "plt.ylim(0.0,1.05)\n",
    "plt.ylabel('True possibility rate')\n",
    "plt.xlabel('False possibility rate')\n",
    "plt.title='Reciever operating characteristic'\n",
    "plt.legend(loc='lower right')\n",
    "plt.show()"
   ]
  }
 ],
 "metadata": {
  "kernelspec": {
   "display_name": "Python 3",
   "language": "python",
   "name": "python3"
  },
  "language_info": {
   "codemirror_mode": {
    "name": "ipython",
    "version": 3
   },
   "file_extension": ".py",
   "mimetype": "text/x-python",
   "name": "python",
   "nbconvert_exporter": "python",
   "pygments_lexer": "ipython3",
   "version": "3.7.3"
  }
 },
 "nbformat": 4,
 "nbformat_minor": 2
}
